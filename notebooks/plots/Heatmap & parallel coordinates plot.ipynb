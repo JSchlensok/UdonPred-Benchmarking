{
 "cells": [
  {
   "cell_type": "code",
   "execution_count": 1,
   "metadata": {},
   "outputs": [],
   "source": [
    "import plotly.express as px\n",
    "import polars as pl\n",
    "\n",
    "from udonpred_benchmarking.constants import DATA_DIR\n",
    "from udonpred_benchmarking.plots import METHODS"
   ]
  },
  {
   "cell_type": "code",
   "execution_count": 3,
   "metadata": {},
   "outputs": [
    {
     "data": {
      "text/plain": [
       "PosixPath('/home/julius/projects/University/Publications/UdonPred/Benchmarking/data')"
      ]
     },
     "execution_count": 3,
     "metadata": {},
     "output_type": "execute_result"
    }
   ],
   "source": [
    "DATA_DIR"
   ]
  },
  {
   "cell_type": "code",
   "execution_count": 4,
   "metadata": {},
   "outputs": [],
   "source": [
    "protein_df = pl.read_csv(DATA_DIR / \"per_protein_performance.csv\")\n",
    "protein_stats = pl.read_csv(DATA_DIR / \"per_protein_stats.csv\")"
   ]
  },
  {
   "cell_type": "code",
   "execution_count": 12,
   "metadata": {},
   "outputs": [
    {
     "data": {
      "application/vnd.plotly.v1+json": {
       "config": {
        "plotlyServerURL": "https://plot.ly"
       },
       "data": [
        {
         "coloraxis": "coloraxis",
         "hovertemplate": "Protein: %{x}<br>Method: %{y}<br>Spearman: %{z}<extra></extra>",
         "name": "0",
         "type": "heatmap",
         "x": [
          "16164_1_1_1",
          "34011_1_1_1",
          "16904_1_1_1",
          "15973_1_1_1",
          "30480_1_1_1",
          "30755_1_1_1",
          "17793_1_1_1",
          "27055_1_1_1",
          "30086_5_5_2",
          "19104_1_1_1",
          "30681_1_2_2",
          "11471_1_2_2",
          "17952_1_1_1",
          "50485_1_1_1",
          "19353_1_3_2",
          "34752_1_1_1",
          "15315_1_1_1",
          "15582_1_1_1",
          "19230_1_2_2",
          "28116_1_1_1",
          "17090_1_1_1",
          "27185_1_1_1",
          "50862_1_1_1",
          "51239_1_1_1",
          "25702_1_1_1",
          "19671_1_1_1",
          "34696_1_1_1",
          "30410_1_1_1",
          "31017_1_1_1",
          "17643_1_1_1",
          "19353_1_2_1",
          "18614_1_1_1",
          "15334_1_1_1",
          "30802_1_1_1",
          "17602_1_1_1",
          "50370_1_1_1",
          "7414_1_1_1",
          "26861_1_1_1",
          "25728_1_1_1",
          "16606_1_1_1",
          "11011_1_1_1",
          "50368_1_1_1",
          "50740_1_1_1",
          "31034_1_1_1",
          "50027_1_1_1",
          "16741_1_1_1",
          "28009_1_1_1",
          "34322_1_1_1",
          "30326_1_1_1",
          "19204_1_1_1",
          "51015_1_1_1",
          "34161_1_1_1",
          "18919_1_1_1",
          "27856_1_1_1",
          "16613_1_1_1",
          "19716_1_1_1",
          "36338_1_1_1",
          "25567_1_1_1",
          "34686_1_1_1",
          "11037_1_1_1",
          "36336_1_1_1",
          "19803_1_1_1",
          "50977_1_1_1",
          "15371_1_1_1",
          "15687_1_1_1",
          "16339_1_1_1",
          "25676_1_1_1",
          "30753_1_1_1",
          "50309_1_1_1",
          "17918_1_1_1",
          "18864_1_1_1",
          "30240_1_1_1",
          "26761_1_1_1",
          "27524_1_1_1",
          "15150_1_1_1",
          "15607_1_1_1",
          "51719_1_1_1",
          "36170_1_1_1",
          "16465_1_2_2",
          "15893_1_1_1",
          "30708_1_1_1",
          "51255_1_1_1",
          "30592_1_1_1",
          "17845_1_1_1",
          "36447_1_1_1",
          "15511_1_1_1",
          "19943_1_1_1",
          "19807_1_1_1",
          "15028_1_1_1",
          "36327_1_1_1",
          "17768_1_1_1",
          "25712_1_1_1",
          "17550_1_1_1",
          "36329_1_1_1",
          "19285_1_1_1",
          "18133_1_1_1",
          "50650_1_1_1",
          "16485_1_1_1",
          "16690_1_1_1",
          "34111_1_1_1",
          "16379_1_1_1",
          "51479_1_1_1",
          "27830_1_1_1",
          "15581_1_1_1",
          "30289_1_1_1",
          "18142_1_1_1",
          "27767_1_1_1",
          "26759_1_1_1",
          "50909_1_1_1",
          "15094_1_1_1",
          "17477_1_1_1",
          "16689_1_1_1",
          "18566_1_1_1",
          "19824_1_1_1",
          "18442_1_1_1",
          "15327_1_1_1",
          "18912_1_1_1",
          "17444_1_1_1",
          "16897_1_1_1",
          "17235_1_1_1",
          "15361_1_1_1",
          "30129_1_1_1",
          "27451_1_1_1",
          "19660_1_1_1",
          "17808_1_1_1",
          "15548_1_1_1",
          "34379_1_1_1",
          "30432_1_1_1",
          "25799_1_1_1",
          "51094_1_1_1",
          "19200_1_1_1",
          "30574_1_1_1",
          "25125_1_1_1",
          "17557_1_2_2",
          "26562_1_1_1",
          "18782_1_1_1",
          "25305_1_1_1",
          "19699_1_1_1",
          "26854_1_1_1",
          "18636_1_1_1",
          "16794_1_1_1",
          "34463_1_1_1",
          "27284_1_1_1",
          "18761_1_1_1",
          "15894_1_1_1",
          "17749_1_1_1",
          "30325_1_1_1",
          "16428_1_1_1",
          "26919_1_1_1",
          "28028_1_1_1",
          "25404_1_1_1",
          "27643_1_1_1",
          "26532_1_1_1",
          "19179_1_1_1",
          "30161_1_1_1",
          "30637_1_1_1",
          "19214_1_1_1",
          "34695_1_1_1",
          "36309_1_2_2",
          "34256_1_1_1",
          "36333_1_1_1",
          "18334_1_1_1",
          "18364_1_1_1",
          "28112_1_1_1",
          "30583_1_1_1",
          "27688_1_1_1",
          "27062_1_1_1",
          "17934_1_1_1",
          "25961_1_1_1",
          "28103_1_1_1",
          "36330_1_1_1",
          "30559_1_1_1",
          "19369_1_1_1",
          "26571_1_1_1",
          "17886_1_1_1",
          "25994_1_1_1",
          "15501_1_1_1",
          "28020_1_1_1",
          "28132_1_1_1",
          "30246_1_1_1",
          "19376_1_1_1",
          "16446_1_1_1",
          "19143_1_1_1",
          "26627_1_2_2",
          "28017_1_1_1",
          "16063_1_2_2",
          "34234_1_1_1",
          "18850_1_1_1",
          "30502_1_1_1",
          "34630_1_1_1",
          "27895_1_1_1",
          "50336_1_1_1",
          "36061_1_1_1",
          "27165_1_1_1",
          "16468_1_1_1",
          "15263_1_1_1",
          "15760_1_1_1",
          "15457_1_1_1",
          "18819_1_1_1",
          "25897_1_1_1",
          "30543_2_1_1",
          "15628_1_1_1",
          "11075_1_1_1",
          "16099_1_1_1",
          "11055_1_1_1",
          "15011_1_1_1",
          "16929_1_1_1",
          "17574_1_1_1",
          "30153_1_1_1",
          "36331_1_1_1",
          "11060_1_1_1",
          "27141_1_1_1",
          "18821_1_1_1",
          "25150_1_1_1",
          "30556_1_1_1",
          "51128_1_1_1",
          "15808_1_1_1",
          "26593_1_1_1",
          "30072_1_1_1",
          "17557_1_1_1",
          "15726_1_1_1",
          "50524_1_1_1",
          "17468_1_1_1",
          "15617_1_1_1",
          "25918_1_1_1",
          "26780_1_1_1",
          "27120_1_1_1",
          "51362_1_1_1",
          "25239_1_1_1",
          "19044_1_1_1",
          "50433_1_1_1",
          "36334_1_1_1",
          "16015_1_1_1",
          "51339_1_1_1",
          "27540_1_1_1",
          "34018_1_1_1",
          "18876_1_2_2",
          "30807_1_1_1",
          "25515_1_1_1",
          "34049_1_1_1",
          "18348_1_1_1",
          "50392_1_1_1",
          "34567_1_1_1",
          "28032_1_1_1",
          "16890_1_1_1",
          "25033_1_1_1",
          "15599_1_1_1",
          "27052_1_1_1",
          "25263_1_1_1",
          "26752_1_1_1",
          "50335_1_1_1",
          "17263_1_1_1",
          "11426_1_1_1",
          "18555_1_1_1",
          "18947_1_1_1",
          "30928_1_1_1",
          "26937_1_1_1",
          "34101_1_1_1",
          "25308_1_1_1",
          "30102_1_1_1",
          "16353_1_1_1",
          "17966_1_1_1",
          "15684_1_1_1",
          "15813_1_1_1",
          "34110_1_1_1",
          "34443_1_1_1",
          "17448_1_1_1",
          "16377_1_1_1",
          "36385_1_1_1",
          "25407_1_1_1",
          "15458_1_1_1",
          "30800_1_1_1",
          "30395_1_1_1",
          "25468_1_1_1",
          "26724_1_1_1",
          "15197_1_1_1",
          "17105_1_1_1",
          "30656_1_1_1",
          "16174_1_2_2",
          "34739_1_1_1",
          "15166_1_1_1",
          "15547_1_1_1",
          "26509_1_1_1",
          "36172_1_1_1",
          "28074_1_1_1",
          "34480_1_1_1",
          "16568_1_1_1",
          "16571_1_1_1",
          "34384_1_1_1",
          "28040_1_1_1",
          "19688_1_2_2",
          "19732_1_1_1",
          "17066_1_1_1",
          "16776_1_1_1",
          "30474_1_2_2",
          "26558_1_1_1",
          "17314_1_1_1",
          "16614_1_1_1",
          "36064_1_2_2",
          "19138_1_1_1",
          "34399_1_1_1",
          "25230_1_1_1",
          "16878_1_1_1",
          "17509_1_1_1",
          "34080_1_1_1",
          "27424_2_2_1",
          "25469_1_1_1",
          "18341_1_1_1",
          "17019_1_2_2",
          "30652_1_1_1",
          "34082_1_1_1",
          "17916_1_1_1",
          "30500_1_1_1",
          "25885_1_1_1",
          "26922_1_1_1",
          "34155_1_1_1",
          "17476_1_1_1",
          "25214_1_1_1",
          "18165_1_1_1",
          "30575_1_1_1",
          "34709_1_1_1",
          "25932_1_1_1",
          "18486_1_1_1",
          "16219_1_1_1",
          "27166_1_1_1",
          "16635_1_1_1",
          "19959_1_1_1",
          "34108_1_1_1",
          "19941_1_1_1",
          "17629_1_1_1",
          "34089_1_1_1",
          "30171_1_1_1",
          "30150_1_1_1",
          "19003_1_1_1",
          "17065_1_1_1",
          "34102_1_1_1",
          "30398_1_1_1",
          "30681_1_1_1",
          "16357_1_1_1",
          "34005_1_1_1",
          "27331_1_1_1",
          "50627_1_1_1",
          "11305_1_1_1",
          "11250_1_1_1",
          "34724_1_1_1",
          "17998_1_1_1",
          "25351_1_1_1",
          "34598_1_1_1"
         ],
         "xaxis": "x",
         "y": [
          "UdonPred",
          "SETH",
          "PUNCH2",
          "flDPnn",
          "AlphaFold2-pLDDT",
          "AlphaFold3-pLDDT",
          "ODiNPred"
         ],
         "yaxis": "y",
         "z": {
          "bdata": "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",
          "dtype": "f8",
          "shape": "7, 348"
         }
        }
       ],
       "layout": {
        "coloraxis": {
         "colorbar": {
          "title": {
           "text": "Spearman"
          }
         },
         "colorscale": [
          [
           0,
           "#0d0887"
          ],
          [
           0.1111111111111111,
           "#46039f"
          ],
          [
           0.2222222222222222,
           "#7201a8"
          ],
          [
           0.3333333333333333,
           "#9c179e"
          ],
          [
           0.4444444444444444,
           "#bd3786"
          ],
          [
           0.5555555555555556,
           "#d8576b"
          ],
          [
           0.6666666666666666,
           "#ed7953"
          ],
          [
           0.7777777777777778,
           "#fb9f3a"
          ],
          [
           0.8888888888888888,
           "#fdca26"
          ],
          [
           1,
           "#f0f921"
          ]
         ]
        },
        "height": 500,
        "margin": {
         "t": 60
        },
        "template": {
         "data": {
          "bar": [
           {
            "error_x": {
             "color": "#2a3f5f"
            },
            "error_y": {
             "color": "#2a3f5f"
            },
            "marker": {
             "line": {
              "color": "#E5ECF6",
              "width": 0.5
             },
             "pattern": {
              "fillmode": "overlay",
              "size": 10,
              "solidity": 0.2
             }
            },
            "type": "bar"
           }
          ],
          "barpolar": [
           {
            "marker": {
             "line": {
              "color": "#E5ECF6",
              "width": 0.5
             },
             "pattern": {
              "fillmode": "overlay",
              "size": 10,
              "solidity": 0.2
             }
            },
            "type": "barpolar"
           }
          ],
          "carpet": [
           {
            "aaxis": {
             "endlinecolor": "#2a3f5f",
             "gridcolor": "white",
             "linecolor": "white",
             "minorgridcolor": "white",
             "startlinecolor": "#2a3f5f"
            },
            "baxis": {
             "endlinecolor": "#2a3f5f",
             "gridcolor": "white",
             "linecolor": "white",
             "minorgridcolor": "white",
             "startlinecolor": "#2a3f5f"
            },
            "type": "carpet"
           }
          ],
          "choropleth": [
           {
            "colorbar": {
             "outlinewidth": 0,
             "ticks": ""
            },
            "type": "choropleth"
           }
          ],
          "contour": [
           {
            "colorbar": {
             "outlinewidth": 0,
             "ticks": ""
            },
            "colorscale": [
             [
              0,
              "#0d0887"
             ],
             [
              0.1111111111111111,
              "#46039f"
             ],
             [
              0.2222222222222222,
              "#7201a8"
             ],
             [
              0.3333333333333333,
              "#9c179e"
             ],
             [
              0.4444444444444444,
              "#bd3786"
             ],
             [
              0.5555555555555556,
              "#d8576b"
             ],
             [
              0.6666666666666666,
              "#ed7953"
             ],
             [
              0.7777777777777778,
              "#fb9f3a"
             ],
             [
              0.8888888888888888,
              "#fdca26"
             ],
             [
              1,
              "#f0f921"
             ]
            ],
            "type": "contour"
           }
          ],
          "contourcarpet": [
           {
            "colorbar": {
             "outlinewidth": 0,
             "ticks": ""
            },
            "type": "contourcarpet"
           }
          ],
          "heatmap": [
           {
            "colorbar": {
             "outlinewidth": 0,
             "ticks": ""
            },
            "colorscale": [
             [
              0,
              "#0d0887"
             ],
             [
              0.1111111111111111,
              "#46039f"
             ],
             [
              0.2222222222222222,
              "#7201a8"
             ],
             [
              0.3333333333333333,
              "#9c179e"
             ],
             [
              0.4444444444444444,
              "#bd3786"
             ],
             [
              0.5555555555555556,
              "#d8576b"
             ],
             [
              0.6666666666666666,
              "#ed7953"
             ],
             [
              0.7777777777777778,
              "#fb9f3a"
             ],
             [
              0.8888888888888888,
              "#fdca26"
             ],
             [
              1,
              "#f0f921"
             ]
            ],
            "type": "heatmap"
           }
          ],
          "histogram": [
           {
            "marker": {
             "pattern": {
              "fillmode": "overlay",
              "size": 10,
              "solidity": 0.2
             }
            },
            "type": "histogram"
           }
          ],
          "histogram2d": [
           {
            "colorbar": {
             "outlinewidth": 0,
             "ticks": ""
            },
            "colorscale": [
             [
              0,
              "#0d0887"
             ],
             [
              0.1111111111111111,
              "#46039f"
             ],
             [
              0.2222222222222222,
              "#7201a8"
             ],
             [
              0.3333333333333333,
              "#9c179e"
             ],
             [
              0.4444444444444444,
              "#bd3786"
             ],
             [
              0.5555555555555556,
              "#d8576b"
             ],
             [
              0.6666666666666666,
              "#ed7953"
             ],
             [
              0.7777777777777778,
              "#fb9f3a"
             ],
             [
              0.8888888888888888,
              "#fdca26"
             ],
             [
              1,
              "#f0f921"
             ]
            ],
            "type": "histogram2d"
           }
          ],
          "histogram2dcontour": [
           {
            "colorbar": {
             "outlinewidth": 0,
             "ticks": ""
            },
            "colorscale": [
             [
              0,
              "#0d0887"
             ],
             [
              0.1111111111111111,
              "#46039f"
             ],
             [
              0.2222222222222222,
              "#7201a8"
             ],
             [
              0.3333333333333333,
              "#9c179e"
             ],
             [
              0.4444444444444444,
              "#bd3786"
             ],
             [
              0.5555555555555556,
              "#d8576b"
             ],
             [
              0.6666666666666666,
              "#ed7953"
             ],
             [
              0.7777777777777778,
              "#fb9f3a"
             ],
             [
              0.8888888888888888,
              "#fdca26"
             ],
             [
              1,
              "#f0f921"
             ]
            ],
            "type": "histogram2dcontour"
           }
          ],
          "mesh3d": [
           {
            "colorbar": {
             "outlinewidth": 0,
             "ticks": ""
            },
            "type": "mesh3d"
           }
          ],
          "parcoords": [
           {
            "line": {
             "colorbar": {
              "outlinewidth": 0,
              "ticks": ""
             }
            },
            "type": "parcoords"
           }
          ],
          "pie": [
           {
            "automargin": true,
            "type": "pie"
           }
          ],
          "scatter": [
           {
            "fillpattern": {
             "fillmode": "overlay",
             "size": 10,
             "solidity": 0.2
            },
            "type": "scatter"
           }
          ],
          "scatter3d": [
           {
            "line": {
             "colorbar": {
              "outlinewidth": 0,
              "ticks": ""
             }
            },
            "marker": {
             "colorbar": {
              "outlinewidth": 0,
              "ticks": ""
             }
            },
            "type": "scatter3d"
           }
          ],
          "scattercarpet": [
           {
            "marker": {
             "colorbar": {
              "outlinewidth": 0,
              "ticks": ""
             }
            },
            "type": "scattercarpet"
           }
          ],
          "scattergeo": [
           {
            "marker": {
             "colorbar": {
              "outlinewidth": 0,
              "ticks": ""
             }
            },
            "type": "scattergeo"
           }
          ],
          "scattergl": [
           {
            "marker": {
             "colorbar": {
              "outlinewidth": 0,
              "ticks": ""
             }
            },
            "type": "scattergl"
           }
          ],
          "scattermap": [
           {
            "marker": {
             "colorbar": {
              "outlinewidth": 0,
              "ticks": ""
             }
            },
            "type": "scattermap"
           }
          ],
          "scattermapbox": [
           {
            "marker": {
             "colorbar": {
              "outlinewidth": 0,
              "ticks": ""
             }
            },
            "type": "scattermapbox"
           }
          ],
          "scatterpolar": [
           {
            "marker": {
             "colorbar": {
              "outlinewidth": 0,
              "ticks": ""
             }
            },
            "type": "scatterpolar"
           }
          ],
          "scatterpolargl": [
           {
            "marker": {
             "colorbar": {
              "outlinewidth": 0,
              "ticks": ""
             }
            },
            "type": "scatterpolargl"
           }
          ],
          "scatterternary": [
           {
            "marker": {
             "colorbar": {
              "outlinewidth": 0,
              "ticks": ""
             }
            },
            "type": "scatterternary"
           }
          ],
          "surface": [
           {
            "colorbar": {
             "outlinewidth": 0,
             "ticks": ""
            },
            "colorscale": [
             [
              0,
              "#0d0887"
             ],
             [
              0.1111111111111111,
              "#46039f"
             ],
             [
              0.2222222222222222,
              "#7201a8"
             ],
             [
              0.3333333333333333,
              "#9c179e"
             ],
             [
              0.4444444444444444,
              "#bd3786"
             ],
             [
              0.5555555555555556,
              "#d8576b"
             ],
             [
              0.6666666666666666,
              "#ed7953"
             ],
             [
              0.7777777777777778,
              "#fb9f3a"
             ],
             [
              0.8888888888888888,
              "#fdca26"
             ],
             [
              1,
              "#f0f921"
             ]
            ],
            "type": "surface"
           }
          ],
          "table": [
           {
            "cells": {
             "fill": {
              "color": "#EBF0F8"
             },
             "line": {
              "color": "white"
             }
            },
            "header": {
             "fill": {
              "color": "#C8D4E3"
             },
             "line": {
              "color": "white"
             }
            },
            "type": "table"
           }
          ]
         },
         "layout": {
          "annotationdefaults": {
           "arrowcolor": "#2a3f5f",
           "arrowhead": 0,
           "arrowwidth": 1
          },
          "autotypenumbers": "strict",
          "coloraxis": {
           "colorbar": {
            "outlinewidth": 0,
            "ticks": ""
           }
          },
          "colorscale": {
           "diverging": [
            [
             0,
             "#8e0152"
            ],
            [
             0.1,
             "#c51b7d"
            ],
            [
             0.2,
             "#de77ae"
            ],
            [
             0.3,
             "#f1b6da"
            ],
            [
             0.4,
             "#fde0ef"
            ],
            [
             0.5,
             "#f7f7f7"
            ],
            [
             0.6,
             "#e6f5d0"
            ],
            [
             0.7,
             "#b8e186"
            ],
            [
             0.8,
             "#7fbc41"
            ],
            [
             0.9,
             "#4d9221"
            ],
            [
             1,
             "#276419"
            ]
           ],
           "sequential": [
            [
             0,
             "#0d0887"
            ],
            [
             0.1111111111111111,
             "#46039f"
            ],
            [
             0.2222222222222222,
             "#7201a8"
            ],
            [
             0.3333333333333333,
             "#9c179e"
            ],
            [
             0.4444444444444444,
             "#bd3786"
            ],
            [
             0.5555555555555556,
             "#d8576b"
            ],
            [
             0.6666666666666666,
             "#ed7953"
            ],
            [
             0.7777777777777778,
             "#fb9f3a"
            ],
            [
             0.8888888888888888,
             "#fdca26"
            ],
            [
             1,
             "#f0f921"
            ]
           ],
           "sequentialminus": [
            [
             0,
             "#0d0887"
            ],
            [
             0.1111111111111111,
             "#46039f"
            ],
            [
             0.2222222222222222,
             "#7201a8"
            ],
            [
             0.3333333333333333,
             "#9c179e"
            ],
            [
             0.4444444444444444,
             "#bd3786"
            ],
            [
             0.5555555555555556,
             "#d8576b"
            ],
            [
             0.6666666666666666,
             "#ed7953"
            ],
            [
             0.7777777777777778,
             "#fb9f3a"
            ],
            [
             0.8888888888888888,
             "#fdca26"
            ],
            [
             1,
             "#f0f921"
            ]
           ]
          },
          "colorway": [
           "#636efa",
           "#EF553B",
           "#00cc96",
           "#ab63fa",
           "#FFA15A",
           "#19d3f3",
           "#FF6692",
           "#B6E880",
           "#FF97FF",
           "#FECB52"
          ],
          "font": {
           "color": "#2a3f5f"
          },
          "geo": {
           "bgcolor": "white",
           "lakecolor": "white",
           "landcolor": "#E5ECF6",
           "showlakes": true,
           "showland": true,
           "subunitcolor": "white"
          },
          "hoverlabel": {
           "align": "left"
          },
          "hovermode": "closest",
          "mapbox": {
           "style": "light"
          },
          "paper_bgcolor": "white",
          "plot_bgcolor": "#E5ECF6",
          "polar": {
           "angularaxis": {
            "gridcolor": "white",
            "linecolor": "white",
            "ticks": ""
           },
           "bgcolor": "#E5ECF6",
           "radialaxis": {
            "gridcolor": "white",
            "linecolor": "white",
            "ticks": ""
           }
          },
          "scene": {
           "xaxis": {
            "backgroundcolor": "#E5ECF6",
            "gridcolor": "white",
            "gridwidth": 2,
            "linecolor": "white",
            "showbackground": true,
            "ticks": "",
            "zerolinecolor": "white"
           },
           "yaxis": {
            "backgroundcolor": "#E5ECF6",
            "gridcolor": "white",
            "gridwidth": 2,
            "linecolor": "white",
            "showbackground": true,
            "ticks": "",
            "zerolinecolor": "white"
           },
           "zaxis": {
            "backgroundcolor": "#E5ECF6",
            "gridcolor": "white",
            "gridwidth": 2,
            "linecolor": "white",
            "showbackground": true,
            "ticks": "",
            "zerolinecolor": "white"
           }
          },
          "shapedefaults": {
           "line": {
            "color": "#2a3f5f"
           }
          },
          "ternary": {
           "aaxis": {
            "gridcolor": "white",
            "linecolor": "white",
            "ticks": ""
           },
           "baxis": {
            "gridcolor": "white",
            "linecolor": "white",
            "ticks": ""
           },
           "bgcolor": "#E5ECF6",
           "caxis": {
            "gridcolor": "white",
            "linecolor": "white",
            "ticks": ""
           }
          },
          "title": {
           "x": 0.05
          },
          "xaxis": {
           "automargin": true,
           "gridcolor": "white",
           "linecolor": "white",
           "ticks": "",
           "title": {
            "standoff": 15
           },
           "zerolinecolor": "white",
           "zerolinewidth": 2
          },
          "yaxis": {
           "automargin": true,
           "gridcolor": "white",
           "linecolor": "white",
           "ticks": "",
           "title": {
            "standoff": 15
           },
           "zerolinecolor": "white",
           "zerolinewidth": 2
          }
         }
        },
        "xaxis": {
         "anchor": "y",
         "domain": [
          0,
          1
         ],
         "showticklabels": false,
         "title": {
          "text": "Protein"
         }
        },
        "yaxis": {
         "anchor": "x",
         "autorange": "reversed",
         "domain": [
          0,
          1
         ],
         "title": {
          "text": "Method"
         }
        }
       }
      }
     },
     "metadata": {},
     "output_type": "display_data"
    }
   ],
   "source": [
    "heatmap_df = (\n",
    "    protein_df\n",
    "    .join(protein_stats, on=\"ID\")\n",
    "    .filter(pl.col(\"metric\") == \"spearman\")\n",
    "    .drop([\"metric\", \"pscore_mean\", \"pscore_mean_category_thirds\", \"pscore_mean_quartile\", \"len\"])\n",
    "    .sort(pl.col(\"value\").mean().over(\"ID\"))\n",
    "    #.sort(\"ID\")\n",
    "    .pivot(on=\"ID\", index=\"method\", values=\"value\")\n",
    "    .to_pandas()\n",
    ")\n",
    "\n",
    "heatmap_df.set_index(\"method\", inplace=True)\n",
    "fig = px.imshow(heatmap_df, x=heatmap_df.columns, y=heatmap_df.index, labels={\"x\": \"Protein\", \"y\": \"Method\", \"color\": \"Spearman\"}, aspect=\"auto\")\n",
    "fig.update_layout(height=500)\n",
    "fig.update_xaxes(showticklabels=False)\n",
    "fig.show()"
   ]
  },
  {
   "cell_type": "code",
   "execution_count": 14,
   "metadata": {},
   "outputs": [
    {
     "data": {
      "application/vnd.plotly.v1+json": {
       "config": {
        "plotlyServerURL": "https://plot.ly"
       },
       "data": [
        {
         "dimensions": [
          {
           "label": "UdonPred",
           "values": {
            "bdata": "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",
            "dtype": "f8"
           }
          },
          {
           "label": "SETH",
           "values": {
            "bdata": "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",
            "dtype": "f8"
           }
          },
          {
           "label": "PUNCH2",
           "values": {
            "bdata": "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",
            "dtype": "f8"
           }
          },
          {
           "label": "flDPnn",
           "values": {
            "bdata": "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",
            "dtype": "f8"
           }
          },
          {
           "label": "AlphaFold2-pLDDT",
           "values": {
            "bdata": "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",
            "dtype": "f8"
           }
          },
          {
           "label": "AlphaFold3-pLDDT",
           "values": {
            "bdata": "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",
            "dtype": "f8"
           }
          },
          {
           "label": "ODiNPred",
           "values": {
            "bdata": "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",
            "dtype": "f8"
           }
          }
         ],
         "domain": {
          "x": [
           0,
           1
          ],
          "y": [
           0,
           1
          ]
         },
         "line": {
          "color": {
           "bdata": "vVjUgwGCrj+rt938ijO/P4lH5wExDsM/R04svsOmzD/cMdykPOW6P5FJ315u1r4/0GODRINgxz9rQ+mlVGvAP5qXx9vMJcY/+UjnyA6DzD9ORimbjmXqP/a8BzHnvMg/dHLL6azFtj+lXOXVOGixP7/Hc5DqTrY/cIkMMhX4uD/RpoDTcJ6jP5rFfeYax8I/oE8TvG7r0j/uyiJRqZS7P8bk+mSypbQ/6zjRNSgguD8/9A6Y0ia1P4XdzsKoPbA/emGfvDaovD9i0tQDoH+3PwWPR/lwe8M/hcGcKwU2tz9JCeVCmA/rP9vIhANzHbs/gWUuBi5Esz+TyNY8EauwPxbtKqT8pLo/SJ9w1MEkwD+WHDm2y5LEP+iIHkHHE7U/of7+wJOAuT8wPh/BkGLGP/l4GV3XNLA/GLnDj3LBwT9A2Zus92O5P2LuQFpFAbw/rbhlm5f7uj+gsWKrvYq6P7as1kCj0bU/cayL22gAvz8lMFuzX9XDPyr26MdUEsM/FNBE2PA05z+CUSaFmsrGP0JEHLr2U7Q/yMxOYRV8xj/90y5e3c69P1OadXIwxtI/7QOQ2sTJvT+lN3xvSy7pP4xALQS0RMU/RAVr2rV2tj9PE5T5AODrP1j/f/eKxek/dVaFtydqxT8uIRZYFUTKPzJZXvYsisM/1x5t9eqAsj8MyL3mQlK5P53lNEgCj70/8U9djz8Fxj9+0LNZ9bm0P9SPTfIjfr0/r0k82M5awT/2jUjOXly0PwNW9HaYkuM/rFsr8zymtz8eCC9gaBSxP4v+69/vI7c/hM7M5+O3tj8xEwj6icbJP+R8xfI3yLY/O4UnNTZ4uD9NbK4NDMmsPzl/wh9Q5bo/rV4sJkhTtz9ubQcQK8nDP++mznQ3OsU/FW+yqiTtwD9CJ+Fhj127P8h8GgqyeNI/eq9amfBLrT/h0Q0e3eDJP1upRKMAOLw/3L71D9ArvD8Jo3n5q+TKP+tQpR20vrw/SsTJlp/wwD8O2rk6N0W1P61BI5ZZWMA/hs3GNFd8wz9frLxNepOyPxhuZAdBsrE/IOg+0jiqtD8adUs2z6+xPzdqlgxXu7Q/zgXedaGi1j8L+uduKVvEP1dkJ3UMT7o/ysbkq7FTtj+rf80vQJi1P741Hp+XmbY//Xy0nBSYsj9eR9RfsIi5P00MG7fqjME/Zvuyyt3yvT8Pqm6PP7K6P6H5Qdfe5bY/2hk6BpHjsz/10iEnjHe4P34sdmdHYrM/w5iNJu3fvT9v+YBZBcG5PxTffl6bpKg/w5lawPA5wT+OPf/4ZnbGP7PDRgfSc8M/fmCyi5QPxD+v9Fcvqt+nP5t8PnvMy8M/0OjlqKeNuz/Z/c8GBUq/P0X3BWfBTLY/jb2A0nN0sD+doiO5/AfcP6Q7iJ0pdLI/nL5T1Y0NuD/Rt26+NK6zP+MT3lxmubc/zsr6DgBZuT9ZKsAx+be9P+Kg0WqVrbI/97tYY/xytD9Ar4WESdO6P3bDpx5mNcE/qaLaHDbzvD9DPrkMtXe8P8DILSLZhcc/5fgRWkkZwz/AkMTIeg7gP+nhf6frbcI/Zyf65t95wT8yyfyY896zP7VZ9bnairM/w0rDSRANsz9Y10G96r26P8IxpsXBibI/zKQnitW56T8LduYUc9bGP6AWARGhj7k/fcJRB5NAsj9ZpYCRLsKzPxOoykmcHcY/UXtCjMs0tj8kHc5qtCO8Px5X0WLymrM/v/9O7nsKxj/NrJDjbDfDP8ywK0DuNbk/uV1/ZqVgsT+Ycd69aGO1P7/eg5NqGeI/Sz2UdcdFsz/oIRIuME3CP6xRaopbYMo/+pdw+pdwsj8PV7PLvbS4Px+/XBsdhLI/q/pcbcX+vT/t2jkDiGy7PzS96BwhAMY/vzcp5Jhjvz/mpAw203TAPwUVVb/S+bg/NW75KyLJsj+/d+lXHevBP4oNBOyULOk/FVfvKH8UvD82uOtMvEG/P4FRSZ2AJuY/4uRTm4wIwD9P1qfp5RK0P9cqv/E2YLs/ROg71naCsj/0rwD3L+mxP+IOikJWgbk/h2x+s/fd6T867O3jMBXpP3x6pSxDHLU/LpvFg/D5uz+I5XdT/we7P0WPrLil47s/A9AlIvCf0z+Hswtj2R/BP1DKyEqxoL4/7kJznUZasj9j4KHlbee1P/qfUvq7nrA/Pv1/peF/rD9uizIbZJK5P+j6lYF7eKY/IH0E4GM40j+6Zna7esKxP9igQog+MrU/MPCGxWSBuD86sWOxlvuwP67C28jj0cI/t0XnmV0yqD/SsptzpJu9P/mZJDWk+7A/pRD33c6Rxz8rPsrg+g20P7Ne4OX2vrU/H1Z+G14YuT/x2RGG8hW8PympE9BEGLM/BsEWiW4msz/sUbgehSvSP0hux/4jB7s/V29zydcEsz8OlL/uQM3BP2BfjyAhp7Y/L7SXQ+7PwT8kMEhBsMq1P6H5GPpdVMk/kTZLkg+0uz8MAFnJSWW7P0WGVbyRebg/OuXsoAxhrT881yX7oce4P46HQlIfirU/778OIQ4ztD+3lK1w1jfLP+jZAwKMur8/UJN6X+uzsz9zQMIREZO4P8Mpc/ON6K4/jLMyt0ezyz93mXRu7VfKP8kx4lpBKb8/x011NRnQyj/amxIcf5nRP5nYfFwbKrI/6S/k370SvD9JwbiEeFi5P4rHRbWIKLY/TJ3pbnSasT+MEotg9zi3P/LyxMsngbI/OVZk/r08sD8yvmd+cxDGPxLhcUyY/sA/dZZGuSFzwz9FDGo8i9TIPxWzXgzlxOY/TzdW3x5VuD8VxjVMOkDSP6i1iXit3bM/3HdVNKU/vz9NhA1Pr5TAP5HuV0/lW8M/c28DxAMNwT8Axsx1K069P1Id9RwzSsI/tUsY00ALtD9c/Ylo/7TDP4G7v//cdrQ/0LNZ9bnayT86UEW1OWzCP86k/8tXErY/+KhHQpAcsz+PydOqTr/IPxiV1AloIqo/JFQYpGNntj8+v1b73N23P4PKldnYwrs/DDz3Hi45sj8EJEJNW8u+PxYPA5/GR7w/xG4WNZB/vz8cckGEH+y8PwnkCA+QJcE/xv8wHOIywT+85m2EXSy0PwZKnIhPwrs/4Jnj7/EcxD9nqIj4Hba8Pz94AUOjiLk/0IPWAbcJtT9PMe95jAe+P2tVUSoj07Q/bnkLCnJksT8fmZue77zGP4Wh/pO4gLs/kHZs95/uyz/dblzZGE61P9n8kD8D0Lo/MbNzPuAlwj/Gl75jn/+xP092QTfntr0/4t1QdvZU5T/GqCoFbiuvP4lyKiXs0rg/GVQI0UcGtj/gT2LlpXCyP6tFlQkIMLU/oEW28/3UuT/KYh3L/CW2P2fcCxGkCrU/7xMamzB0wD+LCOkecIzAP1+RZeb9TLo//uRhodY0rz/VBzxKjXDkPzRTRPJnlr8/ZcxdS8gHtT9dVyT8JM/DP9s6QFU1r7U/r16ClFoswj9a+LoNlqrFP1OxVIBj8rE/yj6QFWDowz8qehMRYwKzP0G/79+8OME/jwuWc+3nvT//14NDe93BPwzVNxFItbY/6o//mqoVuj+feSYhfuuwP47js7NS6bU/6B3rBEUYtT+r8jLbz1e/P+eymNh8XMM/12WpeoM2sj8486s5QDC/P/7+0Xik/sM/nhwvC5WpsD8saZ6VZ4i0P/ZE/RuhjLY/0m2mzfatsj/VnacKqJ+oPxM/xty1hLk/",
           "dtype": "f8"
          },
          "coloraxis": "coloraxis"
         },
         "name": "",
         "type": "parcoords"
        }
       ],
       "layout": {
        "coloraxis": {
         "colorbar": {
          "title": {
           "text": "pscore_mean"
          }
         },
         "colorscale": [
          [
           0,
           "#0d0887"
          ],
          [
           0.1111111111111111,
           "#46039f"
          ],
          [
           0.2222222222222222,
           "#7201a8"
          ],
          [
           0.3333333333333333,
           "#9c179e"
          ],
          [
           0.4444444444444444,
           "#bd3786"
          ],
          [
           0.5555555555555556,
           "#d8576b"
          ],
          [
           0.6666666666666666,
           "#ed7953"
          ],
          [
           0.7777777777777778,
           "#fb9f3a"
          ],
          [
           0.8888888888888888,
           "#fdca26"
          ],
          [
           1,
           "#f0f921"
          ]
         ]
        },
        "legend": {
         "tracegroupgap": 0
        },
        "margin": {
         "t": 60
        },
        "template": {
         "data": {
          "bar": [
           {
            "error_x": {
             "color": "#2a3f5f"
            },
            "error_y": {
             "color": "#2a3f5f"
            },
            "marker": {
             "line": {
              "color": "#E5ECF6",
              "width": 0.5
             },
             "pattern": {
              "fillmode": "overlay",
              "size": 10,
              "solidity": 0.2
             }
            },
            "type": "bar"
           }
          ],
          "barpolar": [
           {
            "marker": {
             "line": {
              "color": "#E5ECF6",
              "width": 0.5
             },
             "pattern": {
              "fillmode": "overlay",
              "size": 10,
              "solidity": 0.2
             }
            },
            "type": "barpolar"
           }
          ],
          "carpet": [
           {
            "aaxis": {
             "endlinecolor": "#2a3f5f",
             "gridcolor": "white",
             "linecolor": "white",
             "minorgridcolor": "white",
             "startlinecolor": "#2a3f5f"
            },
            "baxis": {
             "endlinecolor": "#2a3f5f",
             "gridcolor": "white",
             "linecolor": "white",
             "minorgridcolor": "white",
             "startlinecolor": "#2a3f5f"
            },
            "type": "carpet"
           }
          ],
          "choropleth": [
           {
            "colorbar": {
             "outlinewidth": 0,
             "ticks": ""
            },
            "type": "choropleth"
           }
          ],
          "contour": [
           {
            "colorbar": {
             "outlinewidth": 0,
             "ticks": ""
            },
            "colorscale": [
             [
              0,
              "#0d0887"
             ],
             [
              0.1111111111111111,
              "#46039f"
             ],
             [
              0.2222222222222222,
              "#7201a8"
             ],
             [
              0.3333333333333333,
              "#9c179e"
             ],
             [
              0.4444444444444444,
              "#bd3786"
             ],
             [
              0.5555555555555556,
              "#d8576b"
             ],
             [
              0.6666666666666666,
              "#ed7953"
             ],
             [
              0.7777777777777778,
              "#fb9f3a"
             ],
             [
              0.8888888888888888,
              "#fdca26"
             ],
             [
              1,
              "#f0f921"
             ]
            ],
            "type": "contour"
           }
          ],
          "contourcarpet": [
           {
            "colorbar": {
             "outlinewidth": 0,
             "ticks": ""
            },
            "type": "contourcarpet"
           }
          ],
          "heatmap": [
           {
            "colorbar": {
             "outlinewidth": 0,
             "ticks": ""
            },
            "colorscale": [
             [
              0,
              "#0d0887"
             ],
             [
              0.1111111111111111,
              "#46039f"
             ],
             [
              0.2222222222222222,
              "#7201a8"
             ],
             [
              0.3333333333333333,
              "#9c179e"
             ],
             [
              0.4444444444444444,
              "#bd3786"
             ],
             [
              0.5555555555555556,
              "#d8576b"
             ],
             [
              0.6666666666666666,
              "#ed7953"
             ],
             [
              0.7777777777777778,
              "#fb9f3a"
             ],
             [
              0.8888888888888888,
              "#fdca26"
             ],
             [
              1,
              "#f0f921"
             ]
            ],
            "type": "heatmap"
           }
          ],
          "histogram": [
           {
            "marker": {
             "pattern": {
              "fillmode": "overlay",
              "size": 10,
              "solidity": 0.2
             }
            },
            "type": "histogram"
           }
          ],
          "histogram2d": [
           {
            "colorbar": {
             "outlinewidth": 0,
             "ticks": ""
            },
            "colorscale": [
             [
              0,
              "#0d0887"
             ],
             [
              0.1111111111111111,
              "#46039f"
             ],
             [
              0.2222222222222222,
              "#7201a8"
             ],
             [
              0.3333333333333333,
              "#9c179e"
             ],
             [
              0.4444444444444444,
              "#bd3786"
             ],
             [
              0.5555555555555556,
              "#d8576b"
             ],
             [
              0.6666666666666666,
              "#ed7953"
             ],
             [
              0.7777777777777778,
              "#fb9f3a"
             ],
             [
              0.8888888888888888,
              "#fdca26"
             ],
             [
              1,
              "#f0f921"
             ]
            ],
            "type": "histogram2d"
           }
          ],
          "histogram2dcontour": [
           {
            "colorbar": {
             "outlinewidth": 0,
             "ticks": ""
            },
            "colorscale": [
             [
              0,
              "#0d0887"
             ],
             [
              0.1111111111111111,
              "#46039f"
             ],
             [
              0.2222222222222222,
              "#7201a8"
             ],
             [
              0.3333333333333333,
              "#9c179e"
             ],
             [
              0.4444444444444444,
              "#bd3786"
             ],
             [
              0.5555555555555556,
              "#d8576b"
             ],
             [
              0.6666666666666666,
              "#ed7953"
             ],
             [
              0.7777777777777778,
              "#fb9f3a"
             ],
             [
              0.8888888888888888,
              "#fdca26"
             ],
             [
              1,
              "#f0f921"
             ]
            ],
            "type": "histogram2dcontour"
           }
          ],
          "mesh3d": [
           {
            "colorbar": {
             "outlinewidth": 0,
             "ticks": ""
            },
            "type": "mesh3d"
           }
          ],
          "parcoords": [
           {
            "line": {
             "colorbar": {
              "outlinewidth": 0,
              "ticks": ""
             }
            },
            "type": "parcoords"
           }
          ],
          "pie": [
           {
            "automargin": true,
            "type": "pie"
           }
          ],
          "scatter": [
           {
            "fillpattern": {
             "fillmode": "overlay",
             "size": 10,
             "solidity": 0.2
            },
            "type": "scatter"
           }
          ],
          "scatter3d": [
           {
            "line": {
             "colorbar": {
              "outlinewidth": 0,
              "ticks": ""
             }
            },
            "marker": {
             "colorbar": {
              "outlinewidth": 0,
              "ticks": ""
             }
            },
            "type": "scatter3d"
           }
          ],
          "scattercarpet": [
           {
            "marker": {
             "colorbar": {
              "outlinewidth": 0,
              "ticks": ""
             }
            },
            "type": "scattercarpet"
           }
          ],
          "scattergeo": [
           {
            "marker": {
             "colorbar": {
              "outlinewidth": 0,
              "ticks": ""
             }
            },
            "type": "scattergeo"
           }
          ],
          "scattergl": [
           {
            "marker": {
             "colorbar": {
              "outlinewidth": 0,
              "ticks": ""
             }
            },
            "type": "scattergl"
           }
          ],
          "scattermap": [
           {
            "marker": {
             "colorbar": {
              "outlinewidth": 0,
              "ticks": ""
             }
            },
            "type": "scattermap"
           }
          ],
          "scattermapbox": [
           {
            "marker": {
             "colorbar": {
              "outlinewidth": 0,
              "ticks": ""
             }
            },
            "type": "scattermapbox"
           }
          ],
          "scatterpolar": [
           {
            "marker": {
             "colorbar": {
              "outlinewidth": 0,
              "ticks": ""
             }
            },
            "type": "scatterpolar"
           }
          ],
          "scatterpolargl": [
           {
            "marker": {
             "colorbar": {
              "outlinewidth": 0,
              "ticks": ""
             }
            },
            "type": "scatterpolargl"
           }
          ],
          "scatterternary": [
           {
            "marker": {
             "colorbar": {
              "outlinewidth": 0,
              "ticks": ""
             }
            },
            "type": "scatterternary"
           }
          ],
          "surface": [
           {
            "colorbar": {
             "outlinewidth": 0,
             "ticks": ""
            },
            "colorscale": [
             [
              0,
              "#0d0887"
             ],
             [
              0.1111111111111111,
              "#46039f"
             ],
             [
              0.2222222222222222,
              "#7201a8"
             ],
             [
              0.3333333333333333,
              "#9c179e"
             ],
             [
              0.4444444444444444,
              "#bd3786"
             ],
             [
              0.5555555555555556,
              "#d8576b"
             ],
             [
              0.6666666666666666,
              "#ed7953"
             ],
             [
              0.7777777777777778,
              "#fb9f3a"
             ],
             [
              0.8888888888888888,
              "#fdca26"
             ],
             [
              1,
              "#f0f921"
             ]
            ],
            "type": "surface"
           }
          ],
          "table": [
           {
            "cells": {
             "fill": {
              "color": "#EBF0F8"
             },
             "line": {
              "color": "white"
             }
            },
            "header": {
             "fill": {
              "color": "#C8D4E3"
             },
             "line": {
              "color": "white"
             }
            },
            "type": "table"
           }
          ]
         },
         "layout": {
          "annotationdefaults": {
           "arrowcolor": "#2a3f5f",
           "arrowhead": 0,
           "arrowwidth": 1
          },
          "autotypenumbers": "strict",
          "coloraxis": {
           "colorbar": {
            "outlinewidth": 0,
            "ticks": ""
           }
          },
          "colorscale": {
           "diverging": [
            [
             0,
             "#8e0152"
            ],
            [
             0.1,
             "#c51b7d"
            ],
            [
             0.2,
             "#de77ae"
            ],
            [
             0.3,
             "#f1b6da"
            ],
            [
             0.4,
             "#fde0ef"
            ],
            [
             0.5,
             "#f7f7f7"
            ],
            [
             0.6,
             "#e6f5d0"
            ],
            [
             0.7,
             "#b8e186"
            ],
            [
             0.8,
             "#7fbc41"
            ],
            [
             0.9,
             "#4d9221"
            ],
            [
             1,
             "#276419"
            ]
           ],
           "sequential": [
            [
             0,
             "#0d0887"
            ],
            [
             0.1111111111111111,
             "#46039f"
            ],
            [
             0.2222222222222222,
             "#7201a8"
            ],
            [
             0.3333333333333333,
             "#9c179e"
            ],
            [
             0.4444444444444444,
             "#bd3786"
            ],
            [
             0.5555555555555556,
             "#d8576b"
            ],
            [
             0.6666666666666666,
             "#ed7953"
            ],
            [
             0.7777777777777778,
             "#fb9f3a"
            ],
            [
             0.8888888888888888,
             "#fdca26"
            ],
            [
             1,
             "#f0f921"
            ]
           ],
           "sequentialminus": [
            [
             0,
             "#0d0887"
            ],
            [
             0.1111111111111111,
             "#46039f"
            ],
            [
             0.2222222222222222,
             "#7201a8"
            ],
            [
             0.3333333333333333,
             "#9c179e"
            ],
            [
             0.4444444444444444,
             "#bd3786"
            ],
            [
             0.5555555555555556,
             "#d8576b"
            ],
            [
             0.6666666666666666,
             "#ed7953"
            ],
            [
             0.7777777777777778,
             "#fb9f3a"
            ],
            [
             0.8888888888888888,
             "#fdca26"
            ],
            [
             1,
             "#f0f921"
            ]
           ]
          },
          "colorway": [
           "#636efa",
           "#EF553B",
           "#00cc96",
           "#ab63fa",
           "#FFA15A",
           "#19d3f3",
           "#FF6692",
           "#B6E880",
           "#FF97FF",
           "#FECB52"
          ],
          "font": {
           "color": "#2a3f5f"
          },
          "geo": {
           "bgcolor": "white",
           "lakecolor": "white",
           "landcolor": "#E5ECF6",
           "showlakes": true,
           "showland": true,
           "subunitcolor": "white"
          },
          "hoverlabel": {
           "align": "left"
          },
          "hovermode": "closest",
          "mapbox": {
           "style": "light"
          },
          "paper_bgcolor": "white",
          "plot_bgcolor": "#E5ECF6",
          "polar": {
           "angularaxis": {
            "gridcolor": "white",
            "linecolor": "white",
            "ticks": ""
           },
           "bgcolor": "#E5ECF6",
           "radialaxis": {
            "gridcolor": "white",
            "linecolor": "white",
            "ticks": ""
           }
          },
          "scene": {
           "xaxis": {
            "backgroundcolor": "#E5ECF6",
            "gridcolor": "white",
            "gridwidth": 2,
            "linecolor": "white",
            "showbackground": true,
            "ticks": "",
            "zerolinecolor": "white"
           },
           "yaxis": {
            "backgroundcolor": "#E5ECF6",
            "gridcolor": "white",
            "gridwidth": 2,
            "linecolor": "white",
            "showbackground": true,
            "ticks": "",
            "zerolinecolor": "white"
           },
           "zaxis": {
            "backgroundcolor": "#E5ECF6",
            "gridcolor": "white",
            "gridwidth": 2,
            "linecolor": "white",
            "showbackground": true,
            "ticks": "",
            "zerolinecolor": "white"
           }
          },
          "shapedefaults": {
           "line": {
            "color": "#2a3f5f"
           }
          },
          "ternary": {
           "aaxis": {
            "gridcolor": "white",
            "linecolor": "white",
            "ticks": ""
           },
           "baxis": {
            "gridcolor": "white",
            "linecolor": "white",
            "ticks": ""
           },
           "bgcolor": "#E5ECF6",
           "caxis": {
            "gridcolor": "white",
            "linecolor": "white",
            "ticks": ""
           }
          },
          "title": {
           "x": 0.05
          },
          "xaxis": {
           "automargin": true,
           "gridcolor": "white",
           "linecolor": "white",
           "ticks": "",
           "title": {
            "standoff": 15
           },
           "zerolinecolor": "white",
           "zerolinewidth": 2
          },
          "yaxis": {
           "automargin": true,
           "gridcolor": "white",
           "linecolor": "white",
           "ticks": "",
           "title": {
            "standoff": 15
           },
           "zerolinecolor": "white",
           "zerolinewidth": 2
          }
         }
        }
       }
      }
     },
     "metadata": {},
     "output_type": "display_data"
    },
    {
     "data": {
      "application/vnd.plotly.v1+json": {
       "config": {
        "plotlyServerURL": "https://plot.ly"
       },
       "data": [
        {
         "dimensions": [
          {
           "label": "UdonPred",
           "values": {
            "bdata": "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",
            "dtype": "f8"
           }
          },
          {
           "label": "SETH",
           "values": {
            "bdata": "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",
            "dtype": "f8"
           }
          },
          {
           "label": "PUNCH2",
           "values": {
            "bdata": "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",
            "dtype": "f8"
           }
          },
          {
           "label": "flDPnn",
           "values": {
            "bdata": "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",
            "dtype": "f8"
           }
          },
          {
           "label": "AlphaFold2-pLDDT",
           "values": {
            "bdata": "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",
            "dtype": "f8"
           }
          },
          {
           "label": "AlphaFold3-pLDDT",
           "values": {
            "bdata": "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",
            "dtype": "f8"
           }
          },
          {
           "label": "ODiNPred",
           "values": {
            "bdata": "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",
            "dtype": "f8"
           }
          }
         ],
         "domain": {
          "x": [
           0,
           1
          ],
          "y": [
           0,
           1
          ]
         },
         "line": {
          "color": {
           "bdata": "AQMEBAIDBAMEBAQEAgECAgEEBAMBAgIBAwIEAgQDAQECAwQCAgQBAwIDAgICAwQEBAQBBAMEAwQEAgQEBAQEAQIDBAEDAwEEAgECAgQCAgECAgQEAwMEAQQDAwQDAwIDBAEBAQEBBAQCAgICAQIDAwICAQIBAwIBAwQEBAEEAwMCAQQBAgECAgMBAQIDAwMEBAQDAwEBAQIBBAQCAQEEAgMBBAQCAQIEAQMEAQIBAwMEAwMCAQMEAwMEAwEDAQECBAQCAwIDBAMDAQIBAQIBBAECAgEEAQMBBAECAgMBAQQCAQMCAwIEAwMCAQICAQQDAQIBBAQDBAQBAwICAQIBAQQDBAQEAgQBAwMEAwMDAQQBBAMCAQQBAgIDAQMDAwMDAwEDBAMCAgMBAQQDBAICAwEDBAECAgECAgICAwMCAQQDAQQCAwQBBAEDAwMCAgECAgMEAQMEAQECAQEC",
           "dtype": "i1"
          },
          "coloraxis": "coloraxis"
         },
         "name": "",
         "type": "parcoords"
        }
       ],
       "layout": {
        "coloraxis": {
         "colorbar": {
          "title": {
           "text": "pscore_mean_quartile"
          }
         },
         "colorscale": [
          [
           0,
           "#0d0887"
          ],
          [
           0.1111111111111111,
           "#46039f"
          ],
          [
           0.2222222222222222,
           "#7201a8"
          ],
          [
           0.3333333333333333,
           "#9c179e"
          ],
          [
           0.4444444444444444,
           "#bd3786"
          ],
          [
           0.5555555555555556,
           "#d8576b"
          ],
          [
           0.6666666666666666,
           "#ed7953"
          ],
          [
           0.7777777777777778,
           "#fb9f3a"
          ],
          [
           0.8888888888888888,
           "#fdca26"
          ],
          [
           1,
           "#f0f921"
          ]
         ]
        },
        "legend": {
         "tracegroupgap": 0
        },
        "margin": {
         "t": 60
        },
        "template": {
         "data": {
          "bar": [
           {
            "error_x": {
             "color": "#2a3f5f"
            },
            "error_y": {
             "color": "#2a3f5f"
            },
            "marker": {
             "line": {
              "color": "#E5ECF6",
              "width": 0.5
             },
             "pattern": {
              "fillmode": "overlay",
              "size": 10,
              "solidity": 0.2
             }
            },
            "type": "bar"
           }
          ],
          "barpolar": [
           {
            "marker": {
             "line": {
              "color": "#E5ECF6",
              "width": 0.5
             },
             "pattern": {
              "fillmode": "overlay",
              "size": 10,
              "solidity": 0.2
             }
            },
            "type": "barpolar"
           }
          ],
          "carpet": [
           {
            "aaxis": {
             "endlinecolor": "#2a3f5f",
             "gridcolor": "white",
             "linecolor": "white",
             "minorgridcolor": "white",
             "startlinecolor": "#2a3f5f"
            },
            "baxis": {
             "endlinecolor": "#2a3f5f",
             "gridcolor": "white",
             "linecolor": "white",
             "minorgridcolor": "white",
             "startlinecolor": "#2a3f5f"
            },
            "type": "carpet"
           }
          ],
          "choropleth": [
           {
            "colorbar": {
             "outlinewidth": 0,
             "ticks": ""
            },
            "type": "choropleth"
           }
          ],
          "contour": [
           {
            "colorbar": {
             "outlinewidth": 0,
             "ticks": ""
            },
            "colorscale": [
             [
              0,
              "#0d0887"
             ],
             [
              0.1111111111111111,
              "#46039f"
             ],
             [
              0.2222222222222222,
              "#7201a8"
             ],
             [
              0.3333333333333333,
              "#9c179e"
             ],
             [
              0.4444444444444444,
              "#bd3786"
             ],
             [
              0.5555555555555556,
              "#d8576b"
             ],
             [
              0.6666666666666666,
              "#ed7953"
             ],
             [
              0.7777777777777778,
              "#fb9f3a"
             ],
             [
              0.8888888888888888,
              "#fdca26"
             ],
             [
              1,
              "#f0f921"
             ]
            ],
            "type": "contour"
           }
          ],
          "contourcarpet": [
           {
            "colorbar": {
             "outlinewidth": 0,
             "ticks": ""
            },
            "type": "contourcarpet"
           }
          ],
          "heatmap": [
           {
            "colorbar": {
             "outlinewidth": 0,
             "ticks": ""
            },
            "colorscale": [
             [
              0,
              "#0d0887"
             ],
             [
              0.1111111111111111,
              "#46039f"
             ],
             [
              0.2222222222222222,
              "#7201a8"
             ],
             [
              0.3333333333333333,
              "#9c179e"
             ],
             [
              0.4444444444444444,
              "#bd3786"
             ],
             [
              0.5555555555555556,
              "#d8576b"
             ],
             [
              0.6666666666666666,
              "#ed7953"
             ],
             [
              0.7777777777777778,
              "#fb9f3a"
             ],
             [
              0.8888888888888888,
              "#fdca26"
             ],
             [
              1,
              "#f0f921"
             ]
            ],
            "type": "heatmap"
           }
          ],
          "histogram": [
           {
            "marker": {
             "pattern": {
              "fillmode": "overlay",
              "size": 10,
              "solidity": 0.2
             }
            },
            "type": "histogram"
           }
          ],
          "histogram2d": [
           {
            "colorbar": {
             "outlinewidth": 0,
             "ticks": ""
            },
            "colorscale": [
             [
              0,
              "#0d0887"
             ],
             [
              0.1111111111111111,
              "#46039f"
             ],
             [
              0.2222222222222222,
              "#7201a8"
             ],
             [
              0.3333333333333333,
              "#9c179e"
             ],
             [
              0.4444444444444444,
              "#bd3786"
             ],
             [
              0.5555555555555556,
              "#d8576b"
             ],
             [
              0.6666666666666666,
              "#ed7953"
             ],
             [
              0.7777777777777778,
              "#fb9f3a"
             ],
             [
              0.8888888888888888,
              "#fdca26"
             ],
             [
              1,
              "#f0f921"
             ]
            ],
            "type": "histogram2d"
           }
          ],
          "histogram2dcontour": [
           {
            "colorbar": {
             "outlinewidth": 0,
             "ticks": ""
            },
            "colorscale": [
             [
              0,
              "#0d0887"
             ],
             [
              0.1111111111111111,
              "#46039f"
             ],
             [
              0.2222222222222222,
              "#7201a8"
             ],
             [
              0.3333333333333333,
              "#9c179e"
             ],
             [
              0.4444444444444444,
              "#bd3786"
             ],
             [
              0.5555555555555556,
              "#d8576b"
             ],
             [
              0.6666666666666666,
              "#ed7953"
             ],
             [
              0.7777777777777778,
              "#fb9f3a"
             ],
             [
              0.8888888888888888,
              "#fdca26"
             ],
             [
              1,
              "#f0f921"
             ]
            ],
            "type": "histogram2dcontour"
           }
          ],
          "mesh3d": [
           {
            "colorbar": {
             "outlinewidth": 0,
             "ticks": ""
            },
            "type": "mesh3d"
           }
          ],
          "parcoords": [
           {
            "line": {
             "colorbar": {
              "outlinewidth": 0,
              "ticks": ""
             }
            },
            "type": "parcoords"
           }
          ],
          "pie": [
           {
            "automargin": true,
            "type": "pie"
           }
          ],
          "scatter": [
           {
            "fillpattern": {
             "fillmode": "overlay",
             "size": 10,
             "solidity": 0.2
            },
            "type": "scatter"
           }
          ],
          "scatter3d": [
           {
            "line": {
             "colorbar": {
              "outlinewidth": 0,
              "ticks": ""
             }
            },
            "marker": {
             "colorbar": {
              "outlinewidth": 0,
              "ticks": ""
             }
            },
            "type": "scatter3d"
           }
          ],
          "scattercarpet": [
           {
            "marker": {
             "colorbar": {
              "outlinewidth": 0,
              "ticks": ""
             }
            },
            "type": "scattercarpet"
           }
          ],
          "scattergeo": [
           {
            "marker": {
             "colorbar": {
              "outlinewidth": 0,
              "ticks": ""
             }
            },
            "type": "scattergeo"
           }
          ],
          "scattergl": [
           {
            "marker": {
             "colorbar": {
              "outlinewidth": 0,
              "ticks": ""
             }
            },
            "type": "scattergl"
           }
          ],
          "scattermap": [
           {
            "marker": {
             "colorbar": {
              "outlinewidth": 0,
              "ticks": ""
             }
            },
            "type": "scattermap"
           }
          ],
          "scattermapbox": [
           {
            "marker": {
             "colorbar": {
              "outlinewidth": 0,
              "ticks": ""
             }
            },
            "type": "scattermapbox"
           }
          ],
          "scatterpolar": [
           {
            "marker": {
             "colorbar": {
              "outlinewidth": 0,
              "ticks": ""
             }
            },
            "type": "scatterpolar"
           }
          ],
          "scatterpolargl": [
           {
            "marker": {
             "colorbar": {
              "outlinewidth": 0,
              "ticks": ""
             }
            },
            "type": "scatterpolargl"
           }
          ],
          "scatterternary": [
           {
            "marker": {
             "colorbar": {
              "outlinewidth": 0,
              "ticks": ""
             }
            },
            "type": "scatterternary"
           }
          ],
          "surface": [
           {
            "colorbar": {
             "outlinewidth": 0,
             "ticks": ""
            },
            "colorscale": [
             [
              0,
              "#0d0887"
             ],
             [
              0.1111111111111111,
              "#46039f"
             ],
             [
              0.2222222222222222,
              "#7201a8"
             ],
             [
              0.3333333333333333,
              "#9c179e"
             ],
             [
              0.4444444444444444,
              "#bd3786"
             ],
             [
              0.5555555555555556,
              "#d8576b"
             ],
             [
              0.6666666666666666,
              "#ed7953"
             ],
             [
              0.7777777777777778,
              "#fb9f3a"
             ],
             [
              0.8888888888888888,
              "#fdca26"
             ],
             [
              1,
              "#f0f921"
             ]
            ],
            "type": "surface"
           }
          ],
          "table": [
           {
            "cells": {
             "fill": {
              "color": "#EBF0F8"
             },
             "line": {
              "color": "white"
             }
            },
            "header": {
             "fill": {
              "color": "#C8D4E3"
             },
             "line": {
              "color": "white"
             }
            },
            "type": "table"
           }
          ]
         },
         "layout": {
          "annotationdefaults": {
           "arrowcolor": "#2a3f5f",
           "arrowhead": 0,
           "arrowwidth": 1
          },
          "autotypenumbers": "strict",
          "coloraxis": {
           "colorbar": {
            "outlinewidth": 0,
            "ticks": ""
           }
          },
          "colorscale": {
           "diverging": [
            [
             0,
             "#8e0152"
            ],
            [
             0.1,
             "#c51b7d"
            ],
            [
             0.2,
             "#de77ae"
            ],
            [
             0.3,
             "#f1b6da"
            ],
            [
             0.4,
             "#fde0ef"
            ],
            [
             0.5,
             "#f7f7f7"
            ],
            [
             0.6,
             "#e6f5d0"
            ],
            [
             0.7,
             "#b8e186"
            ],
            [
             0.8,
             "#7fbc41"
            ],
            [
             0.9,
             "#4d9221"
            ],
            [
             1,
             "#276419"
            ]
           ],
           "sequential": [
            [
             0,
             "#0d0887"
            ],
            [
             0.1111111111111111,
             "#46039f"
            ],
            [
             0.2222222222222222,
             "#7201a8"
            ],
            [
             0.3333333333333333,
             "#9c179e"
            ],
            [
             0.4444444444444444,
             "#bd3786"
            ],
            [
             0.5555555555555556,
             "#d8576b"
            ],
            [
             0.6666666666666666,
             "#ed7953"
            ],
            [
             0.7777777777777778,
             "#fb9f3a"
            ],
            [
             0.8888888888888888,
             "#fdca26"
            ],
            [
             1,
             "#f0f921"
            ]
           ],
           "sequentialminus": [
            [
             0,
             "#0d0887"
            ],
            [
             0.1111111111111111,
             "#46039f"
            ],
            [
             0.2222222222222222,
             "#7201a8"
            ],
            [
             0.3333333333333333,
             "#9c179e"
            ],
            [
             0.4444444444444444,
             "#bd3786"
            ],
            [
             0.5555555555555556,
             "#d8576b"
            ],
            [
             0.6666666666666666,
             "#ed7953"
            ],
            [
             0.7777777777777778,
             "#fb9f3a"
            ],
            [
             0.8888888888888888,
             "#fdca26"
            ],
            [
             1,
             "#f0f921"
            ]
           ]
          },
          "colorway": [
           "#636efa",
           "#EF553B",
           "#00cc96",
           "#ab63fa",
           "#FFA15A",
           "#19d3f3",
           "#FF6692",
           "#B6E880",
           "#FF97FF",
           "#FECB52"
          ],
          "font": {
           "color": "#2a3f5f"
          },
          "geo": {
           "bgcolor": "white",
           "lakecolor": "white",
           "landcolor": "#E5ECF6",
           "showlakes": true,
           "showland": true,
           "subunitcolor": "white"
          },
          "hoverlabel": {
           "align": "left"
          },
          "hovermode": "closest",
          "mapbox": {
           "style": "light"
          },
          "paper_bgcolor": "white",
          "plot_bgcolor": "#E5ECF6",
          "polar": {
           "angularaxis": {
            "gridcolor": "white",
            "linecolor": "white",
            "ticks": ""
           },
           "bgcolor": "#E5ECF6",
           "radialaxis": {
            "gridcolor": "white",
            "linecolor": "white",
            "ticks": ""
           }
          },
          "scene": {
           "xaxis": {
            "backgroundcolor": "#E5ECF6",
            "gridcolor": "white",
            "gridwidth": 2,
            "linecolor": "white",
            "showbackground": true,
            "ticks": "",
            "zerolinecolor": "white"
           },
           "yaxis": {
            "backgroundcolor": "#E5ECF6",
            "gridcolor": "white",
            "gridwidth": 2,
            "linecolor": "white",
            "showbackground": true,
            "ticks": "",
            "zerolinecolor": "white"
           },
           "zaxis": {
            "backgroundcolor": "#E5ECF6",
            "gridcolor": "white",
            "gridwidth": 2,
            "linecolor": "white",
            "showbackground": true,
            "ticks": "",
            "zerolinecolor": "white"
           }
          },
          "shapedefaults": {
           "line": {
            "color": "#2a3f5f"
           }
          },
          "ternary": {
           "aaxis": {
            "gridcolor": "white",
            "linecolor": "white",
            "ticks": ""
           },
           "baxis": {
            "gridcolor": "white",
            "linecolor": "white",
            "ticks": ""
           },
           "bgcolor": "#E5ECF6",
           "caxis": {
            "gridcolor": "white",
            "linecolor": "white",
            "ticks": ""
           }
          },
          "title": {
           "x": 0.05
          },
          "xaxis": {
           "automargin": true,
           "gridcolor": "white",
           "linecolor": "white",
           "ticks": "",
           "title": {
            "standoff": 15
           },
           "zerolinecolor": "white",
           "zerolinewidth": 2
          },
          "yaxis": {
           "automargin": true,
           "gridcolor": "white",
           "linecolor": "white",
           "ticks": "",
           "title": {
            "standoff": 15
           },
           "zerolinecolor": "white",
           "zerolinewidth": 2
          }
         }
        }
       }
      }
     },
     "metadata": {},
     "output_type": "display_data"
    }
   ],
   "source": [
    "pcords_df = (\n",
    "    protein_df\n",
    "    .join(protein_stats, on=\"ID\")\n",
    "    .filter(pl.col(\"metric\") == \"spearman\")\n",
    "    .drop(\"metric\")\n",
    "    .pivot(on=\"method\", values=\"value\")\n",
    ")\n",
    "\n",
    "fig1 = px.parallel_coordinates(\n",
    "    pcords_df,\n",
    "    color=\"pscore_mean\",\n",
    "    dimensions=METHODS,\n",
    "    labels={\"x\": \"Method\", \"y\": \"Spearman\", \"color\": \"avg. G-score\"}\n",
    ")\n",
    "fig1.show()\n",
    "fig2 = px.parallel_coordinates(\n",
    "    pcords_df,\n",
    "    color=\"pscore_mean_quartile\",\n",
    "    dimensions=METHODS,\n",
    "    labels={\"x\": \"Method\", \"y\": \"Spearman\", \"color\": \"avg. G-score\"}\n",
    ")\n",
    "fig2.show()"
   ]
  }
 ],
 "metadata": {
  "kernelspec": {
   "display_name": ".venv",
   "language": "python",
   "name": "python3"
  },
  "language_info": {
   "codemirror_mode": {
    "name": "ipython",
    "version": 3
   },
   "file_extension": ".py",
   "mimetype": "text/x-python",
   "name": "python",
   "nbconvert_exporter": "python",
   "pygments_lexer": "ipython3",
   "version": "3.11.11"
  }
 },
 "nbformat": 4,
 "nbformat_minor": 2
}
