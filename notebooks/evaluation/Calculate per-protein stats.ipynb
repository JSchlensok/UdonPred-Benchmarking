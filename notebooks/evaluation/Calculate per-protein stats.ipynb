{
 "cells": [
  {
   "cell_type": "code",
   "execution_count": 7,
   "metadata": {},
   "outputs": [],
   "source": [
    "import polars as pl\n",
    "import sklearn\n",
    "\n",
    "from udonpred_benchmarking.constants import DATA_DIR\n",
    "from udonpred_benchmarking.plots import METHODS, QUARTILE_BOUNDARIES"
   ]
  },
  {
   "cell_type": "code",
   "execution_count": 20,
   "metadata": {},
   "outputs": [],
   "source": [
    "TEST_SET = \"caid3\"\n",
    "#TEST_SET = \"trizod\"\n",
    "\n",
    "residue_df = pl.read_csv(DATA_DIR / f\"{TEST_SET}/per_residue_predictions.csv\")\n",
    "BINARY_SCORE_NAME = \"pscores_binary\" if TEST_SET == \"trizod\" else \"CAID3_binary\"\n",
    "CONTINUOUS_SCORE_NAME = \"pscores\" if TEST_SET == \"trizod\" else \"CAID3_binary\"\n",
    "PROTEIN_COLUMN_NAME = \"ID\" if TEST_SET == \"trizod\" else \"protein\"\n",
    "\n",
    "spearman_scores = []\n",
    "aps_scores = []\n",
    "rmse_scores = []\n",
    "\n",
    "#METHODS.remove(\"ODiNPred\")\n",
    "for method in METHODS:\n",
    "    spearman_scores.append(\n",
    "        residue_df\n",
    "        .group_by(\"protein\")\n",
    "        .agg(pl.corr(CONTINUOUS_SCORE_NAME, f\"{method}_continuous\", method=\"spearman\"))\n",
    "        .rename({CONTINUOUS_SCORE_NAME: \"spearman\"})\n",
    "        .with_columns(pl.lit(method).alias(\"method\"))\n",
    "        .fill_nan(0)\n",
    "    )\n",
    "\n",
    "    aps_scores.append(\n",
    "        residue_df\n",
    "        .group_by(\"protein\").agg(\n",
    "            pl.map_groups(\n",
    "                exprs=[BINARY_SCORE_NAME, f\"{method}_continuous\"],\n",
    "                function=lambda series: sklearn.metrics.average_precision_score(series[0], series[1])\n",
    "            ).alias(\"aps\")\n",
    "        )\n",
    "        .with_columns(\n",
    "            pl.col(\"aps\").list.explode(),\n",
    "            pl.lit(method).alias(\"method\")\n",
    "        )\n",
    "    )\n",
    "\n",
    "    rmse_scores.append(\n",
    "        residue_df\n",
    "        .group_by(\"protein\").agg(\n",
    "            pl.map_groups(\n",
    "                exprs=[CONTINUOUS_SCORE_NAME, f\"{method}_continuous\"],\n",
    "                function=lambda series: sklearn.metrics.root_mean_squared_error(series[0], series[1])\n",
    "            ).alias(\"rmse\")\n",
    "        )\n",
    "        .with_columns(\n",
    "            pl.col(\"rmse\").list.explode(),\n",
    "            pl.lit(method).alias(\"method\")\n",
    "        ),\n",
    "    )\n",
    "\n",
    "spearman_scores = pl.concat(spearman_scores)\n",
    "aps_scores = pl.concat(aps_scores)\n",
    "rmse_scores = pl.concat(rmse_scores)"
   ]
  },
  {
   "cell_type": "code",
   "execution_count": 21,
   "metadata": {},
   "outputs": [
    {
     "data": {
      "text/html": [
       "<div><style>\n",
       ".dataframe > thead > tr,\n",
       ".dataframe > tbody > tr {\n",
       "  text-align: right;\n",
       "  white-space: pre-wrap;\n",
       "}\n",
       "</style>\n",
       "<small>shape: (314, 11)</small><table border=\"1\" class=\"dataframe\"><thead><tr><th>protein</th><th>spearman_median</th><th>spearman_min</th><th>spearman_max</th><th>CAID3_binary_mean</th><th>rmse_median</th><th>rmse_min</th><th>rmse_max</th><th>aps_median</th><th>aps_min</th><th>aps_max</th></tr><tr><td>str</td><td>f64</td><td>f64</td><td>f64</td><td>f64</td><td>f64</td><td>f64</td><td>f64</td><td>f64</td><td>f64</td><td>f64</td></tr></thead><tbody><tr><td>&quot;DP04091&quot;</td><td>0.41828</td><td>0.385178</td><td>0.432311</td><td>0.06867</td><td>0.208937</td><td>0.175383</td><td>0.269408</td><td>0.675382</td><td>0.400426</td><td>0.879889</td></tr><tr><td>&quot;DP04064&quot;</td><td>0.0</td><td>0.0</td><td>0.0</td><td>1.0</td><td>0.823573</td><td>0.664326</td><td>0.904342</td><td>1.0</td><td>1.0</td><td>1.0</td></tr><tr><td>&quot;DP04159&quot;</td><td>0.0</td><td>0.0</td><td>0.0</td><td>1.0</td><td>0.315075</td><td>0.116184</td><td>0.694807</td><td>1.0</td><td>1.0</td><td>1.0</td></tr><tr><td>&quot;DP04118&quot;</td><td>0.623831</td><td>0.498085</td><td>0.693141</td><td>0.292994</td><td>0.384841</td><td>0.380714</td><td>0.408817</td><td>0.799554</td><td>0.64972</td><td>0.876482</td></tr><tr><td>&quot;DP04273&quot;</td><td>0.0</td><td>0.0</td><td>0.0</td><td>1.0</td><td>0.408454</td><td>0.29084</td><td>0.719202</td><td>1.0</td><td>1.0</td><td>1.0</td></tr><tr><td>&hellip;</td><td>&hellip;</td><td>&hellip;</td><td>&hellip;</td><td>&hellip;</td><td>&hellip;</td><td>&hellip;</td><td>&hellip;</td><td>&hellip;</td><td>&hellip;</td><td>&hellip;</td></tr><tr><td>&quot;DP03815&quot;</td><td>0.406703</td><td>0.381153</td><td>0.409843</td><td>0.059459</td><td>0.179259</td><td>0.101379</td><td>0.260844</td><td>0.901868</td><td>0.71505</td><td>0.994545</td></tr><tr><td>&quot;DP04169&quot;</td><td>0.18522</td><td>0.159687</td><td>0.307074</td><td>0.090508</td><td>0.419087</td><td>0.315358</td><td>0.521214</td><td>0.13028</td><td>0.120146</td><td>0.415783</td></tr><tr><td>&quot;DP03938&quot;</td><td>0.0</td><td>0.0</td><td>0.0</td><td>1.0</td><td>0.628215</td><td>0.593296</td><td>0.672007</td><td>1.0</td><td>1.0</td><td>1.0</td></tr><tr><td>&quot;DP04371&quot;</td><td>0.485631</td><td>0.4511</td><td>0.547039</td><td>0.113636</td><td>0.283165</td><td>0.211496</td><td>0.302886</td><td>0.579965</td><td>0.453046</td><td>0.980909</td></tr><tr><td>&quot;DP04186&quot;</td><td>0.487968</td><td>0.322287</td><td>0.856101</td><td>0.576271</td><td>0.559661</td><td>0.42549</td><td>0.647325</td><td>0.837123</td><td>0.784019</td><td>1.0</td></tr></tbody></table></div>"
      ],
      "text/plain": [
       "shape: (314, 11)\n",
       "┌─────────┬────────────┬────────────┬────────────┬───┬──────────┬────────────┬──────────┬──────────┐\n",
       "│ protein ┆ spearman_m ┆ spearman_m ┆ spearman_m ┆ … ┆ rmse_max ┆ aps_median ┆ aps_min  ┆ aps_max  │\n",
       "│ ---     ┆ edian      ┆ in         ┆ ax         ┆   ┆ ---      ┆ ---        ┆ ---      ┆ ---      │\n",
       "│ str     ┆ ---        ┆ ---        ┆ ---        ┆   ┆ f64      ┆ f64        ┆ f64      ┆ f64      │\n",
       "│         ┆ f64        ┆ f64        ┆ f64        ┆   ┆          ┆            ┆          ┆          │\n",
       "╞═════════╪════════════╪════════════╪════════════╪═══╪══════════╪════════════╪══════════╪══════════╡\n",
       "│ DP04091 ┆ 0.41828    ┆ 0.385178   ┆ 0.432311   ┆ … ┆ 0.269408 ┆ 0.675382   ┆ 0.400426 ┆ 0.879889 │\n",
       "│ DP04064 ┆ 0.0        ┆ 0.0        ┆ 0.0        ┆ … ┆ 0.904342 ┆ 1.0        ┆ 1.0      ┆ 1.0      │\n",
       "│ DP04159 ┆ 0.0        ┆ 0.0        ┆ 0.0        ┆ … ┆ 0.694807 ┆ 1.0        ┆ 1.0      ┆ 1.0      │\n",
       "│ DP04118 ┆ 0.623831   ┆ 0.498085   ┆ 0.693141   ┆ … ┆ 0.408817 ┆ 0.799554   ┆ 0.64972  ┆ 0.876482 │\n",
       "│ DP04273 ┆ 0.0        ┆ 0.0        ┆ 0.0        ┆ … ┆ 0.719202 ┆ 1.0        ┆ 1.0      ┆ 1.0      │\n",
       "│ …       ┆ …          ┆ …          ┆ …          ┆ … ┆ …        ┆ …          ┆ …        ┆ …        │\n",
       "│ DP03815 ┆ 0.406703   ┆ 0.381153   ┆ 0.409843   ┆ … ┆ 0.260844 ┆ 0.901868   ┆ 0.71505  ┆ 0.994545 │\n",
       "│ DP04169 ┆ 0.18522    ┆ 0.159687   ┆ 0.307074   ┆ … ┆ 0.521214 ┆ 0.13028    ┆ 0.120146 ┆ 0.415783 │\n",
       "│ DP03938 ┆ 0.0        ┆ 0.0        ┆ 0.0        ┆ … ┆ 0.672007 ┆ 1.0        ┆ 1.0      ┆ 1.0      │\n",
       "│ DP04371 ┆ 0.485631   ┆ 0.4511     ┆ 0.547039   ┆ … ┆ 0.302886 ┆ 0.579965   ┆ 0.453046 ┆ 0.980909 │\n",
       "│ DP04186 ┆ 0.487968   ┆ 0.322287   ┆ 0.856101   ┆ … ┆ 0.647325 ┆ 0.837123   ┆ 0.784019 ┆ 1.0      │\n",
       "└─────────┴────────────┴────────────┴────────────┴───┴──────────┴────────────┴──────────┴──────────┘"
      ]
     },
     "execution_count": 21,
     "metadata": {},
     "output_type": "execute_result"
    }
   ],
   "source": [
    "protein_stats = (\n",
    "    spearman_scores\n",
    "    .select(\n",
    "        pl.col(PROTEIN_COLUMN_NAME),\n",
    "        pl.col(\"spearman\").median().over(PROTEIN_COLUMN_NAME).alias(\"spearman_median\"),\n",
    "        pl.col(\"spearman\").min().over(PROTEIN_COLUMN_NAME).alias(\"spearman_min\"),\n",
    "        pl.col(\"spearman\").max().over(PROTEIN_COLUMN_NAME).alias(\"spearman_max\"),\n",
    "    )\n",
    "    .unique()\n",
    "    .join(\n",
    "        residue_df\n",
    "        .group_by(PROTEIN_COLUMN_NAME).mean().select([PROTEIN_COLUMN_NAME, CONTINUOUS_SCORE_NAME]),\n",
    "        on=PROTEIN_COLUMN_NAME\n",
    "    )\n",
    "    .join(\n",
    "        rmse_scores\n",
    "        .select(\n",
    "            pl.col(PROTEIN_COLUMN_NAME),\n",
    "            pl.col(\"rmse\").median().over(PROTEIN_COLUMN_NAME).alias(\"rmse_median\"),\n",
    "            pl.col(\"rmse\").min().over(PROTEIN_COLUMN_NAME).alias(\"rmse_min\"),\n",
    "            pl.col(\"rmse\").max().over(PROTEIN_COLUMN_NAME).alias(\"rmse_max\"),\n",
    "        )\n",
    "        .unique(),\n",
    "        on=PROTEIN_COLUMN_NAME\n",
    "    )\n",
    "    .join(\n",
    "        aps_scores\n",
    "        .select(\n",
    "            pl.col(PROTEIN_COLUMN_NAME),\n",
    "            pl.col(\"aps\").median().over(PROTEIN_COLUMN_NAME).alias(\"aps_median\"),\n",
    "            pl.col(\"aps\").min().over(PROTEIN_COLUMN_NAME).alias(\"aps_min\"),\n",
    "            pl.col(\"aps\").max().over(PROTEIN_COLUMN_NAME).alias(\"aps_max\"),\n",
    "        )\n",
    "        .unique(),\n",
    "        on=PROTEIN_COLUMN_NAME\n",
    "    )\n",
    "    .rename({CONTINUOUS_SCORE_NAME: f\"{CONTINUOUS_SCORE_NAME}_mean\"})\n",
    ")\n",
    "protein_stats"
   ]
  },
  {
   "cell_type": "code",
   "execution_count": 22,
   "metadata": {},
   "outputs": [
    {
     "data": {
      "text/html": [
       "<div><style>\n",
       ".dataframe > thead > tr,\n",
       ".dataframe > tbody > tr {\n",
       "  text-align: right;\n",
       "  white-space: pre-wrap;\n",
       "}\n",
       "</style>\n",
       "<small>shape: (5_652, 4)</small><table border=\"1\" class=\"dataframe\"><thead><tr><th>protein</th><th>method</th><th>metric</th><th>value</th></tr><tr><td>str</td><td>str</td><td>str</td><td>f64</td></tr></thead><tbody><tr><td>&quot;DP04378&quot;</td><td>&quot;UdonPred&quot;</td><td>&quot;spearman&quot;</td><td>0.379525</td></tr><tr><td>&quot;DP04064&quot;</td><td>&quot;UdonPred&quot;</td><td>&quot;spearman&quot;</td><td>0.0</td></tr><tr><td>&quot;DP03804&quot;</td><td>&quot;UdonPred&quot;</td><td>&quot;spearman&quot;</td><td>0.559341</td></tr><tr><td>&quot;DP04232&quot;</td><td>&quot;UdonPred&quot;</td><td>&quot;spearman&quot;</td><td>0.484382</td></tr><tr><td>&quot;DP04122&quot;</td><td>&quot;UdonPred&quot;</td><td>&quot;spearman&quot;</td><td>0.456177</td></tr><tr><td>&hellip;</td><td>&hellip;</td><td>&hellip;</td><td>&hellip;</td></tr><tr><td>&quot;DP04237&quot;</td><td>&quot;AlphaFold3-pLDDT&quot;</td><td>&quot;aps&quot;</td><td>0.733073</td></tr><tr><td>&quot;DP04203&quot;</td><td>&quot;AlphaFold3-pLDDT&quot;</td><td>&quot;aps&quot;</td><td>0.065223</td></tr><tr><td>&quot;DP03804&quot;</td><td>&quot;AlphaFold3-pLDDT&quot;</td><td>&quot;aps&quot;</td><td>0.997486</td></tr><tr><td>&quot;DP03909&quot;</td><td>&quot;AlphaFold3-pLDDT&quot;</td><td>&quot;aps&quot;</td><td>0.834199</td></tr><tr><td>&quot;DP04128&quot;</td><td>&quot;AlphaFold3-pLDDT&quot;</td><td>&quot;aps&quot;</td><td>1.0</td></tr></tbody></table></div>"
      ],
      "text/plain": [
       "shape: (5_652, 4)\n",
       "┌─────────┬──────────────────┬──────────┬──────────┐\n",
       "│ protein ┆ method           ┆ metric   ┆ value    │\n",
       "│ ---     ┆ ---              ┆ ---      ┆ ---      │\n",
       "│ str     ┆ str              ┆ str      ┆ f64      │\n",
       "╞═════════╪══════════════════╪══════════╪══════════╡\n",
       "│ DP04378 ┆ UdonPred         ┆ spearman ┆ 0.379525 │\n",
       "│ DP04064 ┆ UdonPred         ┆ spearman ┆ 0.0      │\n",
       "│ DP03804 ┆ UdonPred         ┆ spearman ┆ 0.559341 │\n",
       "│ DP04232 ┆ UdonPred         ┆ spearman ┆ 0.484382 │\n",
       "│ DP04122 ┆ UdonPred         ┆ spearman ┆ 0.456177 │\n",
       "│ …       ┆ …                ┆ …        ┆ …        │\n",
       "│ DP04237 ┆ AlphaFold3-pLDDT ┆ aps      ┆ 0.733073 │\n",
       "│ DP04203 ┆ AlphaFold3-pLDDT ┆ aps      ┆ 0.065223 │\n",
       "│ DP03804 ┆ AlphaFold3-pLDDT ┆ aps      ┆ 0.997486 │\n",
       "│ DP03909 ┆ AlphaFold3-pLDDT ┆ aps      ┆ 0.834199 │\n",
       "│ DP04128 ┆ AlphaFold3-pLDDT ┆ aps      ┆ 1.0      │\n",
       "└─────────┴──────────────────┴──────────┴──────────┘"
      ]
     },
     "execution_count": 22,
     "metadata": {},
     "output_type": "execute_result"
    }
   ],
   "source": [
    "protein_df = (\n",
    "    spearman_scores\n",
    "    .join(rmse_scores, on=[PROTEIN_COLUMN_NAME, \"method\"])\n",
    "    .join(aps_scores, on=[PROTEIN_COLUMN_NAME, \"method\"], how=\"left\")\n",
    "    .unpivot(index=[PROTEIN_COLUMN_NAME, \"method\"], variable_name=\"metric\", value_name=\"value\")\n",
    ")\n",
    "protein_df"
   ]
  },
  {
   "cell_type": "code",
   "execution_count": 23,
   "metadata": {},
   "outputs": [
    {
     "data": {
      "text/html": [
       "<div><style>\n",
       ".dataframe > thead > tr,\n",
       ".dataframe > tbody > tr {\n",
       "  text-align: right;\n",
       "  white-space: pre-wrap;\n",
       "}\n",
       "</style>\n",
       "<small>shape: (5_652, 6)</small><table border=\"1\" class=\"dataframe\"><thead><tr><th>protein</th><th>method</th><th>metric</th><th>value</th><th>CAID3_binary_mean</th><th>len</th></tr><tr><td>str</td><td>str</td><td>str</td><td>f64</td><td>f64</td><td>u32</td></tr></thead><tbody><tr><td>&quot;DP04378&quot;</td><td>&quot;UdonPred&quot;</td><td>&quot;spearman&quot;</td><td>0.379525</td><td>0.287736</td><td>848</td></tr><tr><td>&quot;DP04064&quot;</td><td>&quot;UdonPred&quot;</td><td>&quot;spearman&quot;</td><td>0.0</td><td>1.0</td><td>15</td></tr><tr><td>&quot;DP03804&quot;</td><td>&quot;UdonPred&quot;</td><td>&quot;spearman&quot;</td><td>0.559341</td><td>0.792899</td><td>338</td></tr><tr><td>&quot;DP04232&quot;</td><td>&quot;UdonPred&quot;</td><td>&quot;spearman&quot;</td><td>0.484382</td><td>0.516667</td><td>60</td></tr><tr><td>&quot;DP04122&quot;</td><td>&quot;UdonPred&quot;</td><td>&quot;spearman&quot;</td><td>0.456177</td><td>0.076923</td><td>260</td></tr><tr><td>&hellip;</td><td>&hellip;</td><td>&hellip;</td><td>&hellip;</td><td>&hellip;</td><td>&hellip;</td></tr><tr><td>&quot;DP04237&quot;</td><td>&quot;AlphaFold3-pLDDT&quot;</td><td>&quot;aps&quot;</td><td>0.733073</td><td>0.202532</td><td>79</td></tr><tr><td>&quot;DP04203&quot;</td><td>&quot;AlphaFold3-pLDDT&quot;</td><td>&quot;aps&quot;</td><td>0.065223</td><td>0.105263</td><td>95</td></tr><tr><td>&quot;DP03804&quot;</td><td>&quot;AlphaFold3-pLDDT&quot;</td><td>&quot;aps&quot;</td><td>0.997486</td><td>0.792899</td><td>338</td></tr><tr><td>&quot;DP03909&quot;</td><td>&quot;AlphaFold3-pLDDT&quot;</td><td>&quot;aps&quot;</td><td>0.834199</td><td>0.054054</td><td>370</td></tr><tr><td>&quot;DP04128&quot;</td><td>&quot;AlphaFold3-pLDDT&quot;</td><td>&quot;aps&quot;</td><td>1.0</td><td>1.0</td><td>43</td></tr></tbody></table></div>"
      ],
      "text/plain": [
       "shape: (5_652, 6)\n",
       "┌─────────┬──────────────────┬──────────┬──────────┬───────────────────┬─────┐\n",
       "│ protein ┆ method           ┆ metric   ┆ value    ┆ CAID3_binary_mean ┆ len │\n",
       "│ ---     ┆ ---              ┆ ---      ┆ ---      ┆ ---               ┆ --- │\n",
       "│ str     ┆ str              ┆ str      ┆ f64      ┆ f64               ┆ u32 │\n",
       "╞═════════╪══════════════════╪══════════╪══════════╪═══════════════════╪═════╡\n",
       "│ DP04378 ┆ UdonPred         ┆ spearman ┆ 0.379525 ┆ 0.287736          ┆ 848 │\n",
       "│ DP04064 ┆ UdonPred         ┆ spearman ┆ 0.0      ┆ 1.0               ┆ 15  │\n",
       "│ DP03804 ┆ UdonPred         ┆ spearman ┆ 0.559341 ┆ 0.792899          ┆ 338 │\n",
       "│ DP04232 ┆ UdonPred         ┆ spearman ┆ 0.484382 ┆ 0.516667          ┆ 60  │\n",
       "│ DP04122 ┆ UdonPred         ┆ spearman ┆ 0.456177 ┆ 0.076923          ┆ 260 │\n",
       "│ …       ┆ …                ┆ …        ┆ …        ┆ …                 ┆ …   │\n",
       "│ DP04237 ┆ AlphaFold3-pLDDT ┆ aps      ┆ 0.733073 ┆ 0.202532          ┆ 79  │\n",
       "│ DP04203 ┆ AlphaFold3-pLDDT ┆ aps      ┆ 0.065223 ┆ 0.105263          ┆ 95  │\n",
       "│ DP03804 ┆ AlphaFold3-pLDDT ┆ aps      ┆ 0.997486 ┆ 0.792899          ┆ 338 │\n",
       "│ DP03909 ┆ AlphaFold3-pLDDT ┆ aps      ┆ 0.834199 ┆ 0.054054          ┆ 370 │\n",
       "│ DP04128 ┆ AlphaFold3-pLDDT ┆ aps      ┆ 1.0      ┆ 1.0               ┆ 43  │\n",
       "└─────────┴──────────────────┴──────────┴──────────┴───────────────────┴─────┘"
      ]
     },
     "execution_count": 23,
     "metadata": {},
     "output_type": "execute_result"
    }
   ],
   "source": [
    "#quartile_boundaries = [protein_stats[\"pscore_mean\"].quantile(x, interpolation=\"midpoint\") for x in [.25, .5, .75, 1]]\n",
    "\n",
    "protein_df = (\n",
    "    protein_df\n",
    "    .join(protein_stats.select([PROTEIN_COLUMN_NAME, f\"{CONTINUOUS_SCORE_NAME}_mean\"]), on=PROTEIN_COLUMN_NAME)\n",
    "    .join(\n",
    "        residue_df.group_by(PROTEIN_COLUMN_NAME).len(),\n",
    "        on=PROTEIN_COLUMN_NAME\n",
    "    )\n",
    ")\n",
    "if TEST_SET == \"trizod\":\n",
    "    protein_df = (\n",
    "        protein_df\n",
    "        .with_columns(\n",
    "            pl.when(pl.col(\"pscore_mean\") < .33).then(pl.lit(\"[0, .33)\"))\n",
    "            .when(pl.col(\"pscore_mean\") <= .67).then(pl.lit(\"[.33, .67]\"))\n",
    "            .otherwise(pl.lit(\"(.67, 1]\"))\n",
    "            .alias(\"pscore_mean_category_thirds\"),\n",
    "            pl.when(pl.col(\"pscore_mean\") < QUARTILE_BOUNDARIES[0]).then(1)\n",
    "            .when(pl.col(\"pscore_mean\") < QUARTILE_BOUNDARIES[1]).then(2)\n",
    "            .when(pl.col(\"pscore_mean\") < QUARTILE_BOUNDARIES[2]).then(3)\n",
    "            .otherwise(4)\n",
    "            .alias(\"pscore_mean_quartile\")\n",
    "        )\n",
    "    )\n",
    "protein_df"
   ]
  },
  {
   "cell_type": "code",
   "execution_count": 19,
   "metadata": {},
   "outputs": [],
   "source": [
    "protein_df.write_csv(DATA_DIR / TEST_SET / \"per_protein_performance.csv\")\n",
    "protein_stats.write_csv(DATA_DIR / TEST_SET / \"per_protein_stats.csv\")"
   ]
  }
 ],
 "metadata": {
  "kernelspec": {
   "display_name": ".venv",
   "language": "python",
   "name": "python3"
  },
  "language_info": {
   "codemirror_mode": {
    "name": "ipython",
    "version": 3
   },
   "file_extension": ".py",
   "mimetype": "text/x-python",
   "name": "python",
   "nbconvert_exporter": "python",
   "pygments_lexer": "ipython3",
   "version": "3.11.11"
  }
 },
 "nbformat": 4,
 "nbformat_minor": 2
}
