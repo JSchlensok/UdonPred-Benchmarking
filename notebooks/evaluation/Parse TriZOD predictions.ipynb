{
 "cells": [
  {
   "cell_type": "code",
   "execution_count": 5,
   "metadata": {},
   "outputs": [],
   "source": [
    "from pathlib import Path\n",
    "\n",
    "import polars as pl\n",
    "\n",
    "from udonpred_benchmarking.constants import (\n",
    "    ALPHAFOLD_DISORDER_THRESHOLD,\n",
    "    DATA_DIR, PROJECT_DIR,\n",
    "    SETH_THRESHOLD, TRIZOD_THRESHOLD\n",
    ")\n",
    "from udonpred_benchmarking.postprocessing import postprocess_udonpred_df\n",
    "from udonpred_benchmarking.result_parsing.alphafold_disorder import prepare_af2_files, prepare_af3_files\n",
    "from udonpred_benchmarking.result_parsing.caid import read_caid_files, read_multi_caid_file\n",
    "from udonpred_benchmarking.result_parsing.fasta import read_annotated_fasta_file\n",
    "from udonpred_benchmarking.result_parsing.fldpnn import read_fldpnn_file\n",
    "from udonpred_benchmarking.result_parsing.odinpred import prepare_odinpred_files, read_odinpred_files"
   ]
  },
  {
   "cell_type": "code",
   "execution_count": 2,
   "metadata": {},
   "outputs": [],
   "source": [
    "method_result_directory = PROJECT_DIR / \"predictions/trizod\""
   ]
  },
  {
   "cell_type": "markdown",
   "metadata": {},
   "source": [
    "### Regular CAID files (UdonPred, PUNCH2, AlphaFold-Disorder)"
   ]
  },
  {
   "cell_type": "code",
   "execution_count": 3,
   "metadata": {},
   "outputs": [],
   "source": [
    "punch2_light_df = read_caid_files(method_result_directory / \"PUNCH2-light/results/disorder\", \"PUNCH2-light\")\n",
    "punch2_df = read_caid_files(method_result_directory / \"PUNCH2/results/disorder\", \"PUNCH2\")"
   ]
  },
  {
   "cell_type": "code",
   "execution_count": 22,
   "metadata": {},
   "outputs": [],
   "source": [
    "udonpred_df = read_caid_files(\n",
    "    method_result_directory / \"UdonPred/disorder\",\n",
    "    \"UdonPred\",\n",
    "    has_binary_scores=False,\n",
    "    binary_threshold=TRIZOD_THRESHOLD\n",
    ")\n",
    "udonpred_df = postprocess_udonpred_df(udonpred_df)"
   ]
  },
  {
   "cell_type": "markdown",
   "metadata": {},
   "source": [
    "### SETH"
   ]
  },
  {
   "cell_type": "code",
   "execution_count": 7,
   "metadata": {},
   "outputs": [
    {
     "data": {
      "text/html": [
       "<div><style>\n",
       ".dataframe > thead > tr,\n",
       ".dataframe > tbody > tr {\n",
       "  text-align: right;\n",
       "  white-space: pre-wrap;\n",
       "}\n",
       "</style>\n",
       "<small>shape: (38_526, 4)</small><table border=\"1\" class=\"dataframe\"><thead><tr><th>protein</th><th>position</th><th>SETH_continuous</th><th>SETH_binary</th></tr><tr><td>str</td><td>i64</td><td>f64</td><td>i32</td></tr></thead><tbody><tr><td>&quot;17602_1_1_1&quot;</td><td>1</td><td>0.64627</td><td>0</td></tr><tr><td>&quot;17602_1_1_1&quot;</td><td>2</td><td>0.594339</td><td>0</td></tr><tr><td>&quot;17602_1_1_1&quot;</td><td>3</td><td>0.569543</td><td>0</td></tr><tr><td>&quot;17602_1_1_1&quot;</td><td>4</td><td>0.533415</td><td>0</td></tr><tr><td>&quot;17602_1_1_1&quot;</td><td>5</td><td>0.461051</td><td>0</td></tr><tr><td>&hellip;</td><td>&hellip;</td><td>&hellip;</td><td>&hellip;</td></tr><tr><td>&quot;15973_1_1_1&quot;</td><td>11</td><td>0.530063</td><td>0</td></tr><tr><td>&quot;15973_1_1_1&quot;</td><td>12</td><td>0.51261</td><td>0</td></tr><tr><td>&quot;15973_1_1_1&quot;</td><td>13</td><td>0.494732</td><td>0</td></tr><tr><td>&quot;15973_1_1_1&quot;</td><td>14</td><td>0.574651</td><td>0</td></tr><tr><td>&quot;15973_1_1_1&quot;</td><td>15</td><td>0.658934</td><td>0</td></tr></tbody></table></div>"
      ],
      "text/plain": [
       "shape: (38_526, 4)\n",
       "┌─────────────┬──────────┬─────────────────┬─────────────┐\n",
       "│ protein     ┆ position ┆ SETH_continuous ┆ SETH_binary │\n",
       "│ ---         ┆ ---      ┆ ---             ┆ ---         │\n",
       "│ str         ┆ i64      ┆ f64             ┆ i32         │\n",
       "╞═════════════╪══════════╪═════════════════╪═════════════╡\n",
       "│ 17602_1_1_1 ┆ 1        ┆ 0.64627         ┆ 0           │\n",
       "│ 17602_1_1_1 ┆ 2        ┆ 0.594339        ┆ 0           │\n",
       "│ 17602_1_1_1 ┆ 3        ┆ 0.569543        ┆ 0           │\n",
       "│ 17602_1_1_1 ┆ 4        ┆ 0.533415        ┆ 0           │\n",
       "│ 17602_1_1_1 ┆ 5        ┆ 0.461051        ┆ 0           │\n",
       "│ …           ┆ …        ┆ …               ┆ …           │\n",
       "│ 15973_1_1_1 ┆ 11       ┆ 0.530063        ┆ 0           │\n",
       "│ 15973_1_1_1 ┆ 12       ┆ 0.51261         ┆ 0           │\n",
       "│ 15973_1_1_1 ┆ 13       ┆ 0.494732        ┆ 0           │\n",
       "│ 15973_1_1_1 ┆ 14       ┆ 0.574651        ┆ 0           │\n",
       "│ 15973_1_1_1 ┆ 15       ┆ 0.658934        ┆ 0           │\n",
       "└─────────────┴──────────┴─────────────────┴─────────────┘"
      ]
     },
     "execution_count": 7,
     "metadata": {},
     "output_type": "execute_result"
    }
   ],
   "source": [
    "seth_df = read_annotated_fasta_file(\n",
    "    method_result_directory / \"SETH/SETH_trizod_test_set.fasta\",\n",
    "    contains_sequence=False,\n",
    "    method_name=\"SETH\",\n",
    "    separator=\", \",\n",
    "    binary_threshold=SETH_THRESHOLD\n",
    ").with_columns(\n",
    "    (1 - (pl.col(\"SETH_continuous\") - pl.col(\"SETH_continuous\").min()) / (pl.col(\"SETH_continuous\").max() - pl.col(\"SETH_continuous\").min())).alias(\"SETH_continuous\") # new threshold: < (1 - 0.621)\n",
    ")"
   ]
  },
  {
   "cell_type": "markdown",
   "metadata": {},
   "source": [
    "### AlphaFold"
   ]
  },
  {
   "cell_type": "markdown",
   "metadata": {},
   "source": [
    "#### AlphaFold2-Disorder"
   ]
  },
  {
   "cell_type": "code",
   "execution_count": 6,
   "metadata": {},
   "outputs": [],
   "source": [
    "\"\"\"\n",
    "prepare_af2_files(\n",
    "    method_result_path / \"af2/af2_output\",\n",
    "    method_result_path / \"af2/renamed_pdb_files\",\n",
    "    Path.home() / \"projects/University/2023W/PP2/Project/data/TriZOD_test_set.fasta\"\n",
    ")\n",
    "\"\"\"\n",
    "\n",
    "af2_rsa_df = read_multi_caid_file(\n",
    "    method_result_directory / \"af2/af_disorder_output/disorder-25.dat\",\n",
    "    \"AlphaFold2-RSA\",\n",
    "    has_binary_scores=False,\n",
    "    binary_threshold=ALPHAFOLD_DISORDER_THRESHOLD\n",
    "    )\n",
    "\n",
    "af2_plddt_df = read_multi_caid_file(\n",
    "    method_result_directory / \"af2/af_disorder_output/disorder.dat\",\n",
    "    \"AlphaFold2-pLDDT\",\n",
    "    has_binary_scores=False,\n",
    "    binary_threshold=ALPHAFOLD_DISORDER_THRESHOLD\n",
    "    )"
   ]
  },
  {
   "cell_type": "markdown",
   "metadata": {},
   "source": [
    "#### AlphaFold3-Disorder"
   ]
  },
  {
   "cell_type": "code",
   "execution_count": 7,
   "metadata": {},
   "outputs": [],
   "source": [
    "# prepare_af3_files(method_result_path / \"af3/af3_output\", method_result_path / \"af3/mmcif_files\")\n",
    "\n",
    "af3_rsa_df = read_multi_caid_file(\n",
    "    method_result_directory / \"af3/af_disorder_output/output_disorder-25.dat\",\n",
    "    \"AlphaFold3-RSA\",\n",
    "    separator=\"\\t\",\n",
    "    has_binary_scores=False,\n",
    "    binary_threshold=ALPHAFOLD_DISORDER_THRESHOLD\n",
    "    )\n",
    "\n",
    "af3_plddt_df = read_multi_caid_file(\n",
    "    method_result_directory / \"af3/af_disorder_output/output_disorder.dat\",\n",
    "    \"AlphaFold3-pLDDT\",\n",
    "    separator=\"\\t\",\n",
    "    has_binary_scores=False,\n",
    "    binary_threshold=ALPHAFOLD_DISORDER_THRESHOLD\n",
    "    )"
   ]
  },
  {
   "cell_type": "markdown",
   "metadata": {},
   "source": [
    "### flDPnn"
   ]
  },
  {
   "cell_type": "code",
   "execution_count": 8,
   "metadata": {},
   "outputs": [],
   "source": [
    "fldpnn_df = read_fldpnn_file(method_result_directory / \"flDPnn/fldpnn_results.csv\")"
   ]
  },
  {
   "cell_type": "markdown",
   "metadata": {},
   "source": [
    "### ODiNPred"
   ]
  },
  {
   "cell_type": "code",
   "execution_count": 9,
   "metadata": {},
   "outputs": [],
   "source": [
    "odinpred_output_path = method_result_directory / \"ODiNPred\"\n",
    "# prepare_odinpred_files(odinpred_output_path)\n",
    "odinpred_df = read_odinpred_files(odinpred_output_path)"
   ]
  },
  {
   "cell_type": "markdown",
   "metadata": {},
   "source": [
    "### Merging"
   ]
  },
  {
   "cell_type": "code",
   "execution_count": 10,
   "metadata": {},
   "outputs": [],
   "source": [
    "join_columns = [\"protein\", \"position\", \"residue\"]\n",
    "pred_df = udonpred_df.join(punch2_df, on=join_columns)\n",
    "pred_df = pred_df.join(punch2_light_df, on=join_columns)\n",
    "pred_df = pred_df.join(af2_rsa_df, on=join_columns)\n",
    "pred_df = pred_df.join(af2_plddt_df, on=join_columns)\n",
    "pred_df = pred_df.join(af3_rsa_df, on=join_columns)\n",
    "pred_df = pred_df.join(af3_plddt_df, on=join_columns)\n",
    "pred_df = pred_df.join(fldpnn_df, on=join_columns)\n",
    "pred_df = pred_df.join(odinpred_df, on=join_columns)\n",
    "pred_df = pred_df.join(seth_df, on=join_columns[:2])"
   ]
  },
  {
   "cell_type": "code",
   "execution_count": 23,
   "metadata": {},
   "outputs": [
    {
     "data": {
      "text/html": [
       "<div><style>\n",
       ".dataframe > thead > tr,\n",
       ".dataframe > tbody > tr {\n",
       "  text-align: right;\n",
       "  white-space: pre-wrap;\n",
       "}\n",
       "</style>\n",
       "<small>shape: (37_133, 28)</small><table border=\"1\" class=\"dataframe\"><thead><tr><th>ID</th><th>seq_index</th><th>seq</th><th>k</th><th>zscores</th><th>pscores</th><th>UdonPred_continuous</th><th>UdonPred_binary</th><th>PUNCH2_continuous</th><th>PUNCH2_binary</th><th>PUNCH2-light_continuous</th><th>PUNCH2-light_binary</th><th>AlphaFold2-RSA_continuous</th><th>AlphaFold2-RSA_binary</th><th>AlphaFold2-pLDDT_continuous</th><th>AlphaFold2-pLDDT_binary</th><th>AlphaFold3-RSA_continuous</th><th>AlphaFold3-RSA_binary</th><th>AlphaFold3-pLDDT_continuous</th><th>AlphaFold3-pLDDT_binary</th><th>flDPnn_continuous</th><th>flDPnn_binary</th><th>ODiNPred_continuous</th><th>ODiNPred_binary</th><th>SETH_continuous</th><th>SETH_binary</th><th>zscore_category</th><th>pscores_binary</th></tr><tr><td>str</td><td>i64</td><td>str</td><td>i64</td><td>f64</td><td>f64</td><td>f64</td><td>i32</td><td>f64</td><td>i64</td><td>f64</td><td>i64</td><td>f64</td><td>i32</td><td>f64</td><td>i32</td><td>f64</td><td>i32</td><td>f64</td><td>i32</td><td>f64</td><td>i8</td><td>f64</td><td>i32</td><td>f64</td><td>i32</td><td>str</td><td>i32</td></tr></thead><tbody><tr><td>&quot;30161_1_1_1&quot;</td><td>2</td><td>&quot;I&quot;</td><td>14</td><td>11.1609</td><td>0.0947</td><td>0.122</td><td>0</td><td>0.175</td><td>0</td><td>0.094</td><td>0</td><td>0.282</td><td>0</td><td>0.277</td><td>0</td><td>0.265</td><td>0</td><td>0.036</td><td>0</td><td>0.043</td><td>0</td><td>0.0594</td><td>0</td><td>0.268171</td><td>0</td><td>&quot;ordered&quot;</td><td>0</td></tr><tr><td>&quot;30161_1_1_1&quot;</td><td>3</td><td>&quot;R&quot;</td><td>21</td><td>14.1291</td><td>0.0736</td><td>0.088667</td><td>0</td><td>0.105</td><td>0</td><td>0.041</td><td>0</td><td>0.267</td><td>0</td><td>0.161</td><td>0</td><td>0.249</td><td>0</td><td>0.028</td><td>0</td><td>0.041</td><td>0</td><td>0.0511</td><td>0</td><td>0.104289</td><td>0</td><td>&quot;ordered&quot;</td><td>0</td></tr><tr><td>&quot;30161_1_1_1&quot;</td><td>4</td><td>&quot;T&quot;</td><td>21</td><td>15.1705</td><td>0.0332</td><td>0.070333</td><td>0</td><td>0.076</td><td>0</td><td>0.026</td><td>0</td><td>0.277</td><td>0</td><td>0.109</td><td>0</td><td>0.256</td><td>0</td><td>0.016</td><td>0</td><td>0.032</td><td>0</td><td>0.0482</td><td>0</td><td>0.033521</td><td>0</td><td>&quot;ordered&quot;</td><td>0</td></tr><tr><td>&quot;30161_1_1_1&quot;</td><td>5</td><td>&quot;I&quot;</td><td>21</td><td>14.728</td><td>0.0497</td><td>0.055333</td><td>0</td><td>0.063</td><td>0</td><td>0.019</td><td>0</td><td>0.27</td><td>0</td><td>0.088</td><td>0</td><td>0.253</td><td>0</td><td>0.013</td><td>0</td><td>0.024</td><td>0</td><td>0.0329</td><td>0</td><td>0.011706</td><td>0</td><td>&quot;ordered&quot;</td><td>0</td></tr><tr><td>&quot;30161_1_1_1&quot;</td><td>6</td><td>&quot;L&quot;</td><td>21</td><td>15.1002</td><td>0.0358</td><td>0.048333</td><td>0</td><td>0.06</td><td>0</td><td>0.018</td><td>0</td><td>0.27</td><td>0</td><td>0.078</td><td>0</td><td>0.253</td><td>0</td><td>0.012</td><td>0</td><td>0.016</td><td>0</td><td>0.0326</td><td>0</td><td>0.009844</td><td>0</td><td>&quot;ordered&quot;</td><td>0</td></tr><tr><td>&hellip;</td><td>&hellip;</td><td>&hellip;</td><td>&hellip;</td><td>&hellip;</td><td>&hellip;</td><td>&hellip;</td><td>&hellip;</td><td>&hellip;</td><td>&hellip;</td><td>&hellip;</td><td>&hellip;</td><td>&hellip;</td><td>&hellip;</td><td>&hellip;</td><td>&hellip;</td><td>&hellip;</td><td>&hellip;</td><td>&hellip;</td><td>&hellip;</td><td>&hellip;</td><td>&hellip;</td><td>&hellip;</td><td>&hellip;</td><td>&hellip;</td><td>&hellip;</td><td>&hellip;</td><td>&hellip;</td></tr><tr><td>&quot;15582_1_1_1&quot;</td><td>10</td><td>&quot;T&quot;</td><td>15</td><td>13.043</td><td>0.0248</td><td>0.143333</td><td>0</td><td>0.119</td><td>0</td><td>0.098</td><td>0</td><td>0.716</td><td>1</td><td>0.109</td><td>0</td><td>0.663</td><td>1</td><td>0.03</td><td>0</td><td>0.631</td><td>1</td><td>0.0</td><td>0</td><td>0.372991</td><td>0</td><td>&quot;ordered&quot;</td><td>0</td></tr><tr><td>&quot;15582_1_1_1&quot;</td><td>11</td><td>&quot;S&quot;</td><td>15</td><td>12.8633</td><td>0.0323</td><td>0.209667</td><td>0</td><td>0.179</td><td>0</td><td>0.117</td><td>0</td><td>0.711</td><td>1</td><td>0.094</td><td>0</td><td>0.665</td><td>1</td><td>0.03</td><td>0</td><td>0.658</td><td>1</td><td>0.0</td><td>0</td><td>0.432372</td><td>1</td><td>&quot;ordered&quot;</td><td>0</td></tr><tr><td>&quot;15582_1_1_1&quot;</td><td>12</td><td>&quot;L&quot;</td><td>13</td><td>11.8975</td><td>0.0365</td><td>0.283667</td><td>0</td><td>0.266</td><td>0</td><td>0.163</td><td>0</td><td>0.7</td><td>1</td><td>0.102</td><td>0</td><td>0.658</td><td>1</td><td>0.024</td><td>0</td><td>0.703</td><td>1</td><td>0.0</td><td>0</td><td>0.462488</td><td>1</td><td>&quot;ordered&quot;</td><td>0</td></tr><tr><td>&quot;15582_1_1_1&quot;</td><td>13</td><td>&quot;T&quot;</td><td>11</td><td>9.8587</td><td>0.098</td><td>0.283333</td><td>0</td><td>0.397</td><td>1</td><td>0.259</td><td>0</td><td>0.688</td><td>1</td><td>0.086</td><td>0</td><td>0.646</td><td>1</td><td>0.027</td><td>0</td><td>0.703</td><td>1</td><td>0.0</td><td>0</td><td>0.5539</td><td>1</td><td>&quot;flexible_loops&quot;</td><td>0</td></tr><tr><td>&quot;15582_1_1_1&quot;</td><td>14</td><td>&quot;G&quot;</td><td>6</td><td>6.6457</td><td>0.1602</td><td>0.263</td><td>0</td><td>0.494</td><td>1</td><td>0.374</td><td>0</td><td>0.679</td><td>1</td><td>0.184</td><td>0</td><td>0.634</td><td>1</td><td>0.067</td><td>0</td><td>0.703</td><td>1</td><td>0.0</td><td>0</td><td>0.670959</td><td>1</td><td>&quot;fractionally_ordered&quot;</td><td>0</td></tr></tbody></table></div>"
      ],
      "text/plain": [
       "shape: (37_133, 28)\n",
       "┌─────────────┬───────────┬─────┬─────┬───┬──────────────┬─────────────┬─────────────┬─────────────┐\n",
       "│ ID          ┆ seq_index ┆ seq ┆ k   ┆ … ┆ SETH_continu ┆ SETH_binary ┆ zscore_cate ┆ pscores_bin │\n",
       "│ ---         ┆ ---       ┆ --- ┆ --- ┆   ┆ ous          ┆ ---         ┆ gory        ┆ ary         │\n",
       "│ str         ┆ i64       ┆ str ┆ i64 ┆   ┆ ---          ┆ i32         ┆ ---         ┆ ---         │\n",
       "│             ┆           ┆     ┆     ┆   ┆ f64          ┆             ┆ str         ┆ i32         │\n",
       "╞═════════════╪═══════════╪═════╪═════╪═══╪══════════════╪═════════════╪═════════════╪═════════════╡\n",
       "│ 30161_1_1_1 ┆ 2         ┆ I   ┆ 14  ┆ … ┆ 0.268171     ┆ 0           ┆ ordered     ┆ 0           │\n",
       "│ 30161_1_1_1 ┆ 3         ┆ R   ┆ 21  ┆ … ┆ 0.104289     ┆ 0           ┆ ordered     ┆ 0           │\n",
       "│ 30161_1_1_1 ┆ 4         ┆ T   ┆ 21  ┆ … ┆ 0.033521     ┆ 0           ┆ ordered     ┆ 0           │\n",
       "│ 30161_1_1_1 ┆ 5         ┆ I   ┆ 21  ┆ … ┆ 0.011706     ┆ 0           ┆ ordered     ┆ 0           │\n",
       "│ 30161_1_1_1 ┆ 6         ┆ L   ┆ 21  ┆ … ┆ 0.009844     ┆ 0           ┆ ordered     ┆ 0           │\n",
       "│ …           ┆ …         ┆ …   ┆ …   ┆ … ┆ …            ┆ …           ┆ …           ┆ …           │\n",
       "│ 15582_1_1_1 ┆ 10        ┆ T   ┆ 15  ┆ … ┆ 0.372991     ┆ 0           ┆ ordered     ┆ 0           │\n",
       "│ 15582_1_1_1 ┆ 11        ┆ S   ┆ 15  ┆ … ┆ 0.432372     ┆ 1           ┆ ordered     ┆ 0           │\n",
       "│ 15582_1_1_1 ┆ 12        ┆ L   ┆ 13  ┆ … ┆ 0.462488     ┆ 1           ┆ ordered     ┆ 0           │\n",
       "│ 15582_1_1_1 ┆ 13        ┆ T   ┆ 11  ┆ … ┆ 0.5539       ┆ 1           ┆ flexible_lo ┆ 0           │\n",
       "│             ┆           ┆     ┆     ┆   ┆              ┆             ┆ ops         ┆             │\n",
       "│ 15582_1_1_1 ┆ 14        ┆ G   ┆ 6   ┆ … ┆ 0.670959     ┆ 1           ┆ fractionall ┆ 0           │\n",
       "│             ┆           ┆     ┆     ┆   ┆              ┆             ┆ y_ordered   ┆             │\n",
       "└─────────────┴───────────┴─────┴─────┴───┴──────────────┴─────────────┴─────────────┴─────────────┘"
      ]
     },
     "execution_count": 23,
     "metadata": {},
     "output_type": "execute_result"
    }
   ],
   "source": [
    "residue_df = (\n",
    "    pl.read_csv(method_result_directory / \"TriZOD/unfiltered.csv\", columns=[\"ID\", \"seq_index\", \"seq\", \"k\", \"zscores\", \"pscores\"])\n",
    "    .join(\n",
    "        pred_df,\n",
    "        left_on=[\"ID\", \"seq_index\"],\n",
    "        right_on=[\"protein\", \"position\"]\n",
    "    )\n",
    "    .with_columns(\n",
    "        pl.col(\"zscores\").cast(pl.Float64),\n",
    "    )\n",
    "    .drop_nulls(\"pscores\")\n",
    "    .with_columns(\n",
    "        pl.when(pl.col(\"zscores\") < 3).then(pl.lit(\"fully_disordered\"))\n",
    "        .when(pl.col(\"zscores\") < 8).then(pl.lit(\"fractionally_ordered\"))\n",
    "        .when(pl.col(\"zscores\") < 11).then(pl.lit(\"flexible_loops\"))\n",
    "        .otherwise(pl.lit(\"ordered\"))\n",
    "        .alias(\"zscore_category\")\n",
    "    )\n",
    "    .with_columns(\n",
    "        pl.when(pl.col(\"pscores\") <= TRIZOD_THRESHOLD).then(0).otherwise(1).alias(\"pscores_binary\")\n",
    "    )\n",
    "    .drop(\"residue\")\n",
    "    .rename({\n",
    "        \"ID\": \"protein\",\n",
    "        \"seq_index\": \"position\",\n",
    "        \"seq\": \"residue\"\n",
    "    })\n",
    ")\n",
    "residue_df"
   ]
  },
  {
   "cell_type": "code",
   "execution_count": 15,
   "metadata": {},
   "outputs": [],
   "source": [
    "residue_df.write_csv(DATA_DIR / \"trizod/per_residue_predictions.csv\")"
   ]
  }
 ],
 "metadata": {
  "kernelspec": {
   "display_name": ".venv",
   "language": "python",
   "name": "python3"
  },
  "language_info": {
   "codemirror_mode": {
    "name": "ipython",
    "version": 3
   },
   "file_extension": ".py",
   "mimetype": "text/x-python",
   "name": "python",
   "nbconvert_exporter": "python",
   "pygments_lexer": "ipython3",
   "version": "3.11.11"
  }
 },
 "nbformat": 4,
 "nbformat_minor": 2
}
