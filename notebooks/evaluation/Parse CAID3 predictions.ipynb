{
 "cells": [
  {
   "cell_type": "code",
   "execution_count": 1,
   "metadata": {},
   "outputs": [],
   "source": [
    "from pathlib import Path\n",
    "\n",
    "import polars as pl\n",
    "\n",
    "from udonpred_benchmarking.constants import ALPHAFOLD_DISORDER_THRESHOLD, DATA_DIR, PROJECT_DIR, TRIZOD_THRESHOLD\n",
    "from udonpred_benchmarking.result_parsing.caid import read_multi_caid_file\n",
    "from udonpred_benchmarking.result_parsing.fasta import read_annotated_fasta_file"
   ]
  },
  {
   "cell_type": "code",
   "execution_count": 2,
   "metadata": {},
   "outputs": [
    {
     "data": {
      "text/html": [
       "<div><style>\n",
       ".dataframe > thead > tr,\n",
       ".dataframe > tbody > tr {\n",
       "  text-align: right;\n",
       "  white-space: pre-wrap;\n",
       "}\n",
       "</style>\n",
       "<small>shape: (160_422, 19)</small><table border=\"1\" class=\"dataframe\"><thead><tr><th>protein</th><th>position</th><th>residue</th><th>PUNCH2_continuous</th><th>PUNCH2_binary</th><th>UdonPred_continuous</th><th>UdonPred_binary</th><th>AlphaFold2-RSA_continuous</th><th>AlphaFold2-RSA_binary</th><th>AlphaFold2-pLDDT_continuous</th><th>AlphaFold2-pLDDT_binary</th><th>AlphaFold3-RSA_continuous</th><th>AlphaFold3-RSA_binary</th><th>AlphaFold3-pLDDT_continuous</th><th>AlphaFold3-pLDDT_binary</th><th>SETH_continuous</th><th>SETH_binary</th><th>flDPnn_continuous</th><th>flDPnn_binary</th></tr><tr><td>str</td><td>i64</td><td>str</td><td>f64</td><td>i64</td><td>f64</td><td>i32</td><td>f64</td><td>i32</td><td>f64</td><td>i32</td><td>f64</td><td>i32</td><td>f64</td><td>i32</td><td>f64</td><td>i64</td><td>f64</td><td>i64</td></tr></thead><tbody><tr><td>&quot;DP02732&quot;</td><td>1</td><td>&quot;M&quot;</td><td>0.958</td><td>1</td><td>0.497</td><td>1</td><td>0.86</td><td>1</td><td>0.621</td><td>1</td><td>0.844</td><td>1</td><td>0.684</td><td>1</td><td>0.597</td><td>1</td><td>0.102</td><td>0</td></tr><tr><td>&quot;DP02732&quot;</td><td>2</td><td>&quot;E&quot;</td><td>0.961</td><td>1</td><td>0.556</td><td>1</td><td>0.865</td><td>1</td><td>0.676</td><td>1</td><td>0.847</td><td>1</td><td>0.62</td><td>1</td><td>0.569</td><td>1</td><td>0.11</td><td>0</td></tr><tr><td>&quot;DP02732&quot;</td><td>3</td><td>&quot;D&quot;</td><td>0.961</td><td>1</td><td>0.563</td><td>1</td><td>0.868</td><td>1</td><td>0.653</td><td>1</td><td>0.849</td><td>1</td><td>0.604</td><td>1</td><td>0.566</td><td>1</td><td>0.118</td><td>0</td></tr><tr><td>&quot;DP02732&quot;</td><td>4</td><td>&quot;L&quot;</td><td>0.958</td><td>1</td><td>0.554</td><td>1</td><td>0.869</td><td>1</td><td>0.665</td><td>1</td><td>0.851</td><td>1</td><td>0.586</td><td>1</td><td>0.584</td><td>1</td><td>0.104</td><td>0</td></tr><tr><td>&quot;DP02732&quot;</td><td>5</td><td>&quot;V&quot;</td><td>0.959</td><td>1</td><td>0.499</td><td>1</td><td>0.875</td><td>1</td><td>0.658</td><td>1</td><td>0.857</td><td>1</td><td>0.546</td><td>1</td><td>0.603</td><td>1</td><td>0.123</td><td>0</td></tr><tr><td>&hellip;</td><td>&hellip;</td><td>&hellip;</td><td>&hellip;</td><td>&hellip;</td><td>&hellip;</td><td>&hellip;</td><td>&hellip;</td><td>&hellip;</td><td>&hellip;</td><td>&hellip;</td><td>&hellip;</td><td>&hellip;</td><td>&hellip;</td><td>&hellip;</td><td>&hellip;</td><td>&hellip;</td><td>&hellip;</td><td>&hellip;</td></tr><tr><td>&quot;DP04416&quot;</td><td>93</td><td>&quot;T&quot;</td><td>0.629</td><td>1</td><td>0.993</td><td>1</td><td>0.609</td><td>1</td><td>0.332</td><td>1</td><td>0.606</td><td>1</td><td>0.199</td><td>0</td><td>0.521</td><td>1</td><td>0.579</td><td>1</td></tr><tr><td>&quot;DP04416&quot;</td><td>94</td><td>&quot;Y&quot;</td><td>0.634</td><td>1</td><td>0.797</td><td>1</td><td>0.61</td><td>1</td><td>0.404</td><td>1</td><td>0.609</td><td>1</td><td>0.185</td><td>0</td><td>0.557</td><td>1</td><td>0.649</td><td>1</td></tr><tr><td>&quot;DP04416&quot;</td><td>95</td><td>&quot;T&quot;</td><td>0.654</td><td>1</td><td>0.869</td><td>1</td><td>0.597</td><td>1</td><td>0.399</td><td>1</td><td>0.589</td><td>1</td><td>0.255</td><td>0</td><td>0.63</td><td>1</td><td>0.608</td><td>1</td></tr><tr><td>&quot;DP04416&quot;</td><td>96</td><td>&quot;G&quot;</td><td>0.64</td><td>1</td><td>0.841</td><td>1</td><td>0.598</td><td>1</td><td>0.468</td><td>1</td><td>0.585</td><td>1</td><td>0.306</td><td>0</td><td>0.715</td><td>1</td><td>0.552</td><td>1</td></tr><tr><td>&quot;DP04416&quot;</td><td>97</td><td>&quot;F&quot;</td><td>0.606</td><td>1</td><td>0.756</td><td>1</td><td>0.6</td><td>1</td><td>0.512</td><td>1</td><td>0.589</td><td>1</td><td>0.324</td><td>1</td><td>0.769</td><td>1</td><td>0.509</td><td>1</td></tr></tbody></table></div>"
      ],
      "text/plain": [
       "shape: (160_422, 19)\n",
       "┌─────────┬──────────┬─────────┬────────────┬───┬────────────┬────────────┬────────────┬───────────┐\n",
       "│ protein ┆ position ┆ residue ┆ PUNCH2_con ┆ … ┆ SETH_conti ┆ SETH_binar ┆ flDPnn_con ┆ flDPnn_bi │\n",
       "│ ---     ┆ ---      ┆ ---     ┆ tinuous    ┆   ┆ nuous      ┆ y          ┆ tinuous    ┆ nary      │\n",
       "│ str     ┆ i64      ┆ str     ┆ ---        ┆   ┆ ---        ┆ ---        ┆ ---        ┆ ---       │\n",
       "│         ┆          ┆         ┆ f64        ┆   ┆ f64        ┆ i64        ┆ f64        ┆ i64       │\n",
       "╞═════════╪══════════╪═════════╪════════════╪═══╪════════════╪════════════╪════════════╪═══════════╡\n",
       "│ DP02732 ┆ 1        ┆ M       ┆ 0.958      ┆ … ┆ 0.597      ┆ 1          ┆ 0.102      ┆ 0         │\n",
       "│ DP02732 ┆ 2        ┆ E       ┆ 0.961      ┆ … ┆ 0.569      ┆ 1          ┆ 0.11       ┆ 0         │\n",
       "│ DP02732 ┆ 3        ┆ D       ┆ 0.961      ┆ … ┆ 0.566      ┆ 1          ┆ 0.118      ┆ 0         │\n",
       "│ DP02732 ┆ 4        ┆ L       ┆ 0.958      ┆ … ┆ 0.584      ┆ 1          ┆ 0.104      ┆ 0         │\n",
       "│ DP02732 ┆ 5        ┆ V       ┆ 0.959      ┆ … ┆ 0.603      ┆ 1          ┆ 0.123      ┆ 0         │\n",
       "│ …       ┆ …        ┆ …       ┆ …          ┆ … ┆ …          ┆ …          ┆ …          ┆ …         │\n",
       "│ DP04416 ┆ 93       ┆ T       ┆ 0.629      ┆ … ┆ 0.521      ┆ 1          ┆ 0.579      ┆ 1         │\n",
       "│ DP04416 ┆ 94       ┆ Y       ┆ 0.634      ┆ … ┆ 0.557      ┆ 1          ┆ 0.649      ┆ 1         │\n",
       "│ DP04416 ┆ 95       ┆ T       ┆ 0.654      ┆ … ┆ 0.63       ┆ 1          ┆ 0.608      ┆ 1         │\n",
       "│ DP04416 ┆ 96       ┆ G       ┆ 0.64       ┆ … ┆ 0.715      ┆ 1          ┆ 0.552      ┆ 1         │\n",
       "│ DP04416 ┆ 97       ┆ F       ┆ 0.606      ┆ … ┆ 0.769      ┆ 1          ┆ 0.509      ┆ 1         │\n",
       "└─────────┴──────────┴─────────┴────────────┴───┴────────────┴────────────┴────────────┴───────────┘"
      ]
     },
     "execution_count": 2,
     "metadata": {},
     "output_type": "execute_result"
    }
   ],
   "source": [
    "method_result_directory = PROJECT_DIR / \"predictions/caid3/v3\"\n",
    "# some of these, especially UdonPred, are missing predictions\n",
    "punch2_df = read_multi_caid_file(method_result_directory / \"PUNCH2.caid\", \"PUNCH2\")\n",
    "udonpred_df = read_multi_caid_file(\n",
    "    method_result_directory / \"UdonPred-combined.caid\",\n",
    "    \"UdonPred\",\n",
    "    has_binary_scores=False,\n",
    "    binary_threshold=TRIZOD_THRESHOLD\n",
    ")\n",
    "seth_df = read_multi_caid_file(method_result_directory / \"SETH-1.caid\", \"SETH\")\n",
    "af2_rsa_df = read_multi_caid_file(\n",
    "    method_result_directory / \"AlphaFold-rsa.caid\",\n",
    "    \"AlphaFold2-RSA\",\n",
    "    has_binary_scores=False,\n",
    "    binary_threshold=ALPHAFOLD_DISORDER_THRESHOLD\n",
    ")\n",
    "af2_plddt_df = read_multi_caid_file(\n",
    "    method_result_directory / \"AlphaFold-pLDDT.caid\",\n",
    "    \"AlphaFold2-pLDDT\",\n",
    "    has_binary_scores=False,\n",
    "    binary_threshold=ALPHAFOLD_DISORDER_THRESHOLD\n",
    ")\n",
    "af3_rsa_df = read_multi_caid_file(\n",
    "    method_result_directory / \"AlphaFold3-rsa.caid\",\n",
    "    \"AlphaFold3-RSA\",\n",
    "    has_binary_scores=False,\n",
    "    binary_threshold=ALPHAFOLD_DISORDER_THRESHOLD\n",
    ")\n",
    "af3_plddt_df = read_multi_caid_file(\n",
    "    method_result_directory / \"AlphaFold3-pLDDT.caid\",\n",
    "    \"AlphaFold3-pLDDT\",\n",
    "    has_binary_scores=False,\n",
    "    binary_threshold=ALPHAFOLD_DISORDER_THRESHOLD\n",
    ")\n",
    "fldpnn_df = read_multi_caid_file(method_result_directory / \"flDPnn.caid\", \"flDPnn\")\n",
    "join_columns = [\"protein\", \"position\", \"residue\"]\n",
    "pred_df = (\n",
    "    punch2_df\n",
    "    .join(udonpred_df, on=join_columns, how=\"left\")\n",
    "    .join(af2_rsa_df, on=join_columns, how=\"left\")\n",
    "    .join(af2_plddt_df, on=join_columns, how=\"left\")\n",
    "    .join(af3_rsa_df, on=join_columns, how=\"left\")\n",
    "    .join(af3_plddt_df, on=join_columns, how=\"left\")\n",
    "    .join(seth_df, on=join_columns, how=\"left\")\n",
    "    .join(fldpnn_df, on=join_columns, how=\"left\")\n",
    ")\n",
    "pred_df"
   ]
  },
  {
   "cell_type": "code",
   "execution_count": 21,
   "metadata": {},
   "outputs": [
    {
     "data": {
      "text/html": [
       "<div><style>\n",
       ".dataframe > thead > tr,\n",
       ".dataframe > tbody > tr {\n",
       "  text-align: right;\n",
       "  white-space: pre-wrap;\n",
       "}\n",
       "</style>\n",
       "<small>shape: (99_184, 20)</small><table border=\"1\" class=\"dataframe\"><thead><tr><th>protein</th><th>position</th><th>CAID3_binary</th><th>residue</th><th>PUNCH2_continuous</th><th>PUNCH2_binary</th><th>UdonPred_continuous</th><th>UdonPred_binary</th><th>AlphaFold2-RSA_continuous</th><th>AlphaFold2-RSA_binary</th><th>AlphaFold2-pLDDT_continuous</th><th>AlphaFold2-pLDDT_binary</th><th>AlphaFold3-RSA_continuous</th><th>AlphaFold3-RSA_binary</th><th>AlphaFold3-pLDDT_continuous</th><th>AlphaFold3-pLDDT_binary</th><th>SETH_continuous</th><th>SETH_binary</th><th>flDPnn_continuous</th><th>flDPnn_binary</th></tr><tr><td>str</td><td>i16</td><td>i8</td><td>str</td><td>f64</td><td>i64</td><td>f64</td><td>i32</td><td>f64</td><td>i32</td><td>f64</td><td>i32</td><td>f64</td><td>i32</td><td>f64</td><td>i32</td><td>f64</td><td>i64</td><td>f64</td><td>i64</td></tr></thead><tbody><tr><td>&quot;DP02732&quot;</td><td>1547</td><td>1</td><td>&quot;L&quot;</td><td>0.612</td><td>1</td><td>0.548</td><td>1</td><td>0.792</td><td>1</td><td>0.634</td><td>1</td><td>0.811</td><td>1</td><td>0.577</td><td>1</td><td>0.599</td><td>1</td><td>0.003</td><td>0</td></tr><tr><td>&quot;DP02732&quot;</td><td>1548</td><td>1</td><td>&quot;E&quot;</td><td>0.587</td><td>1</td><td>0.457</td><td>1</td><td>0.79</td><td>1</td><td>0.7</td><td>1</td><td>0.809</td><td>1</td><td>0.535</td><td>1</td><td>0.58</td><td>1</td><td>0.002</td><td>0</td></tr><tr><td>&quot;DP02732&quot;</td><td>1549</td><td>1</td><td>&quot;P&quot;</td><td>0.566</td><td>1</td><td>0.423</td><td>1</td><td>0.783</td><td>1</td><td>0.604</td><td>1</td><td>0.801</td><td>1</td><td>0.577</td><td>1</td><td>0.565</td><td>1</td><td>0.002</td><td>0</td></tr><tr><td>&quot;DP02732&quot;</td><td>1550</td><td>1</td><td>&quot;P&quot;</td><td>0.54</td><td>1</td><td>0.359</td><td>0</td><td>0.778</td><td>1</td><td>0.665</td><td>1</td><td>0.798</td><td>1</td><td>0.581</td><td>1</td><td>0.532</td><td>1</td><td>0.001</td><td>0</td></tr><tr><td>&quot;DP02732&quot;</td><td>1551</td><td>1</td><td>&quot;L&quot;</td><td>0.506</td><td>1</td><td>0.37</td><td>0</td><td>0.778</td><td>1</td><td>0.694</td><td>1</td><td>0.81</td><td>1</td><td>0.569</td><td>1</td><td>0.503</td><td>1</td><td>0.001</td><td>0</td></tr><tr><td>&hellip;</td><td>&hellip;</td><td>&hellip;</td><td>&hellip;</td><td>&hellip;</td><td>&hellip;</td><td>&hellip;</td><td>&hellip;</td><td>&hellip;</td><td>&hellip;</td><td>&hellip;</td><td>&hellip;</td><td>&hellip;</td><td>&hellip;</td><td>&hellip;</td><td>&hellip;</td><td>&hellip;</td><td>&hellip;</td><td>&hellip;</td><td>&hellip;</td></tr><tr><td>&quot;DP04416&quot;</td><td>93</td><td>1</td><td>&quot;T&quot;</td><td>0.629</td><td>1</td><td>0.993</td><td>1</td><td>0.609</td><td>1</td><td>0.332</td><td>1</td><td>0.606</td><td>1</td><td>0.199</td><td>0</td><td>0.521</td><td>1</td><td>0.579</td><td>1</td></tr><tr><td>&quot;DP04416&quot;</td><td>94</td><td>1</td><td>&quot;Y&quot;</td><td>0.634</td><td>1</td><td>0.797</td><td>1</td><td>0.61</td><td>1</td><td>0.404</td><td>1</td><td>0.609</td><td>1</td><td>0.185</td><td>0</td><td>0.557</td><td>1</td><td>0.649</td><td>1</td></tr><tr><td>&quot;DP04416&quot;</td><td>95</td><td>1</td><td>&quot;T&quot;</td><td>0.654</td><td>1</td><td>0.869</td><td>1</td><td>0.597</td><td>1</td><td>0.399</td><td>1</td><td>0.589</td><td>1</td><td>0.255</td><td>0</td><td>0.63</td><td>1</td><td>0.608</td><td>1</td></tr><tr><td>&quot;DP04416&quot;</td><td>96</td><td>1</td><td>&quot;G&quot;</td><td>0.64</td><td>1</td><td>0.841</td><td>1</td><td>0.598</td><td>1</td><td>0.468</td><td>1</td><td>0.585</td><td>1</td><td>0.306</td><td>0</td><td>0.715</td><td>1</td><td>0.552</td><td>1</td></tr><tr><td>&quot;DP04416&quot;</td><td>97</td><td>1</td><td>&quot;F&quot;</td><td>0.606</td><td>1</td><td>0.756</td><td>1</td><td>0.6</td><td>1</td><td>0.512</td><td>1</td><td>0.589</td><td>1</td><td>0.324</td><td>1</td><td>0.769</td><td>1</td><td>0.509</td><td>1</td></tr></tbody></table></div>"
      ],
      "text/plain": [
       "shape: (99_184, 20)\n",
       "┌─────────┬──────────┬────────────┬─────────┬───┬────────────┬────────────┬────────────┬───────────┐\n",
       "│ protein ┆ position ┆ CAID3_bina ┆ residue ┆ … ┆ SETH_conti ┆ SETH_binar ┆ flDPnn_con ┆ flDPnn_bi │\n",
       "│ ---     ┆ ---      ┆ ry         ┆ ---     ┆   ┆ nuous      ┆ y          ┆ tinuous    ┆ nary      │\n",
       "│ str     ┆ i16      ┆ ---        ┆ str     ┆   ┆ ---        ┆ ---        ┆ ---        ┆ ---       │\n",
       "│         ┆          ┆ i8         ┆         ┆   ┆ f64        ┆ i64        ┆ f64        ┆ i64       │\n",
       "╞═════════╪══════════╪════════════╪═════════╪═══╪════════════╪════════════╪════════════╪═══════════╡\n",
       "│ DP02732 ┆ 1547     ┆ 1          ┆ L       ┆ … ┆ 0.599      ┆ 1          ┆ 0.003      ┆ 0         │\n",
       "│ DP02732 ┆ 1548     ┆ 1          ┆ E       ┆ … ┆ 0.58       ┆ 1          ┆ 0.002      ┆ 0         │\n",
       "│ DP02732 ┆ 1549     ┆ 1          ┆ P       ┆ … ┆ 0.565      ┆ 1          ┆ 0.002      ┆ 0         │\n",
       "│ DP02732 ┆ 1550     ┆ 1          ┆ P       ┆ … ┆ 0.532      ┆ 1          ┆ 0.001      ┆ 0         │\n",
       "│ DP02732 ┆ 1551     ┆ 1          ┆ L       ┆ … ┆ 0.503      ┆ 1          ┆ 0.001      ┆ 0         │\n",
       "│ …       ┆ …        ┆ …          ┆ …       ┆ … ┆ …          ┆ …          ┆ …          ┆ …         │\n",
       "│ DP04416 ┆ 93       ┆ 1          ┆ T       ┆ … ┆ 0.521      ┆ 1          ┆ 0.579      ┆ 1         │\n",
       "│ DP04416 ┆ 94       ┆ 1          ┆ Y       ┆ … ┆ 0.557      ┆ 1          ┆ 0.649      ┆ 1         │\n",
       "│ DP04416 ┆ 95       ┆ 1          ┆ T       ┆ … ┆ 0.63       ┆ 1          ┆ 0.608      ┆ 1         │\n",
       "│ DP04416 ┆ 96       ┆ 1          ┆ G       ┆ … ┆ 0.715      ┆ 1          ┆ 0.552      ┆ 1         │\n",
       "│ DP04416 ┆ 97       ┆ 1          ┆ F       ┆ … ┆ 0.769      ┆ 1          ┆ 0.509      ┆ 1         │\n",
       "└─────────┴──────────┴────────────┴─────────┴───┴────────────┴────────────┴────────────┴───────────┘"
      ]
     },
     "execution_count": 21,
     "metadata": {},
     "output_type": "execute_result"
    }
   ],
   "source": [
    "residue_df = (\n",
    "    read_annotated_fasta_file(\n",
    "        Path(\"/home/julius/projects/University/Publications/UdonPred/caid2_reference/data/output/references/disorder_pdb.fasta\"),\n",
    "        contains_sequence=True,\n",
    "        contains_continuous_scores=False,\n",
    "        contains_binary_scores=True,\n",
    "        null_value=\"-\",\n",
    "        method_name=\"CAID3\"\n",
    "    )\n",
    "    .join(pred_df, on=[\"protein\", \"position\"])\n",
    "    .drop_nulls(\"CAID3_binary\")\n",
    "    #.drop_nulls()\n",
    ")\n",
    "residue_df"
   ]
  },
  {
   "cell_type": "markdown",
   "metadata": {},
   "source": [
    "### Next steps\n",
    "- generate missing predictions\n",
    "    - UdonPred\n",
    "    - AF3\n",
    "- investigate slightly off negative/undefined residues\n",
    "- try to find right flDPnn version"
   ]
  },
  {
   "cell_type": "code",
   "execution_count": 22,
   "metadata": {},
   "outputs": [],
   "source": [
    "residue_df.write_csv(DATA_DIR / \"caid3/per_residue_predictions.csv\")"
   ]
  }
 ],
 "metadata": {
  "kernelspec": {
   "display_name": ".venv",
   "language": "python",
   "name": "python3"
  },
  "language_info": {
   "codemirror_mode": {
    "name": "ipython",
    "version": 3
   },
   "file_extension": ".py",
   "mimetype": "text/x-python",
   "name": "python",
   "nbconvert_exporter": "python",
   "pygments_lexer": "ipython3",
   "version": "3.11.11"
  }
 },
 "nbformat": 4,
 "nbformat_minor": 2
}
